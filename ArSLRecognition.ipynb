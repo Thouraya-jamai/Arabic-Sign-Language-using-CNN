{
  "cells": [
    {
      "cell_type": "markdown",
      "metadata": {
        "id": "YzwITA796sCX"
      },
      "source": [
        "# **Loading the Dataset**"
      ]
    },
    {
      "cell_type": "code",
      "execution_count": null,
      "metadata": {
        "colab": {
          "base_uri": "https://localhost:8080/"
        },
        "id": "m3CB9cXFLrcP",
        "outputId": "c50c2252-3144-4662-e04c-8e28614e193d"
      },
      "outputs": [
        {
          "output_type": "stream",
          "name": "stdout",
          "text": [
            "Found 43421 images belonging to 32 classes.\n",
            "Class Labels: {'ain': 0, 'al': 1, 'aleff': 2, 'bb': 3, 'dal': 4, 'dha': 5, 'dhad': 6, 'fa': 7, 'gaaf': 8, 'ghain': 9, 'ha': 10, 'haa': 11, 'jeem': 12, 'kaaf': 13, 'khaa': 14, 'la': 15, 'laam': 16, 'meem': 17, 'nun': 18, 'ra': 19, 'saad': 20, 'seen': 21, 'sheen': 22, 'ta': 23, 'taa': 24, 'thaa': 25, 'thal': 26, 'toot': 27, 'waw': 28, 'ya': 29, 'yaa': 30, 'zay': 31}\n"
          ]
        }
      ],
      "source": [
        "from tensorflow.keras.preprocessing.image import ImageDataGenerator\n",
        "\n",
        "dataset_path = '/content/content/ArASL_Database'\n",
        "\n",
        "datagen = ImageDataGenerator(rescale=1./255)\n",
        "\n",
        "data_generator = datagen.flow_from_directory(\n",
        "    dataset_path,\n",
        "    target_size=(64, 64),\n",
        "    batch_size=64,\n",
        "    class_mode='categorical'\n",
        ")\n",
        "folder_classes = data_generator.class_indices\n",
        "print(\"Class Labels:\", folder_classes)"
      ]
    },
    {
      "cell_type": "markdown",
      "metadata": {
        "id": "ACAmd_wCNVxL"
      },
      "source": [
        "# **Data Augmentation and Split Data into Training, Validation, and Testing**"
      ]
    },
    {
      "cell_type": "markdown",
      "source": [
        "**creating a dataset for the Test**"
      ],
      "metadata": {
        "id": "1EDQGRN5myN4"
      }
    },
    {
      "cell_type": "code",
      "execution_count": null,
      "metadata": {
        "colab": {
          "base_uri": "https://localhost:8080/"
        },
        "id": "Am1rYog2wAmX",
        "outputId": "d19fb128-f779-4adf-c29d-662f9502303f"
      },
      "outputs": [
        {
          "output_type": "stream",
          "name": "stdout",
          "text": [
            "Test dataset created successfully!\n"
          ]
        }
      ],
      "source": [
        "#creating a dataset for the Test\n",
        "import os\n",
        "import shutil\n",
        "import random\n",
        "\n",
        "original_data_dir = '/content/content/ArASL_Database'\n",
        "test_data_dir = '/content/content/Test_Database'\n",
        "\n",
        "test_percentage = 0.2\n",
        "os.makedirs(test_data_dir, exist_ok=True)\n",
        "image_counts = {}\n",
        "\n",
        "for class_name in os.listdir(original_data_dir):\n",
        "    class_dir = os.path.join(original_data_dir, class_name)\n",
        "    if not os.path.isdir(class_dir):\n",
        "        continue\n",
        "\n",
        "    test_class_dir = os.path.join(test_data_dir, class_name)\n",
        "    os.makedirs(test_class_dir, exist_ok=True)\n",
        "\n",
        "    files = os.listdir(class_dir)\n",
        "    num_test_files = int(len(files) * test_percentage)\n",
        "\n",
        "    test_files = random.sample(files, num_test_files)\n",
        "\n",
        "    for file in test_files:\n",
        "        shutil.move(os.path.join(class_dir, file), os.path.join(test_class_dir, file))\n",
        "\n",
        "print(\"Test dataset created successfully!\")\n"
      ]
    },
    {
      "cell_type": "code",
      "execution_count": null,
      "metadata": {
        "colab": {
          "base_uri": "https://localhost:8080/"
        },
        "id": "xoZ_cMxkzE-y",
        "outputId": "5022b6a5-c7eb-40e9-e7e9-f67cc812cba4"
      },
      "outputs": [
        {
          "output_type": "stream",
          "name": "stdout",
          "text": [
            "Number of images in each folder:\n",
            "Class 'nun': 1165 images\n",
            "Class 'al': 860 images\n",
            "Class 'saad': 1213 images\n",
            "Class 'gaaf': 1096 images\n",
            "Class 'waw': 878 images\n",
            "Class 'ghain': 1336 images\n",
            "Class 'ya': 1103 images\n",
            "Class 'haa': 977 images\n",
            "Class 'ha': 1020 images\n",
            "Class 'thaa': 1131 images\n",
            "Class 'toot': 1147 images\n",
            "Class 'thal': 1013 images\n",
            "Class 'dhad': 1076 images\n",
            "Class 'taa': 1177 images\n",
            "Class 'aleff': 1071 images\n",
            "Class 'ain': 1360 images\n",
            "Class 'jeem': 1007 images\n",
            "Class 'dha': 1116 images\n",
            "Class 'la': 1124 images\n",
            "Class 'khaa': 1029 images\n",
            "Class 'ra': 1063 images\n",
            "Class 'bb': 1160 images\n",
            "Class 'sheen': 965 images\n",
            "Class 'ta': 1163 images\n",
            "Class 'dal': 1047 images\n",
            "Class 'zay': 880 images\n",
            "Class 'yaa': 828 images\n",
            "Class 'seen': 1049 images\n",
            "Class 'fa': 1254 images\n",
            "Class 'laam': 1173 images\n",
            "Class 'meem': 1130 images\n",
            "Class 'kaaf': 1136 images\n"
          ]
        }
      ],
      "source": [
        "#show the number of images in the training dataset\n",
        "import os\n",
        "dataset_dir = '/content/content/ArASL_Database'\n",
        "image_counts = {}\n",
        "\n",
        "for class_name in os.listdir(dataset_dir):\n",
        "    class_dir = os.path.join(dataset_dir, class_name)\n",
        "    if not os.path.isdir(class_dir):\n",
        "        continue\n",
        "    files = os.listdir(class_dir)\n",
        "    num_images = len(files)\n",
        "    image_counts[class_name] = num_images\n",
        "\n",
        "print(\"Number of images in each folder:\")\n",
        "for class_name, count in image_counts.items():\n",
        "    print(f\"Class '{class_name}': {count} images\")\n"
      ]
    },
    {
      "cell_type": "code",
      "execution_count": null,
      "metadata": {
        "colab": {
          "base_uri": "https://localhost:8080/"
        },
        "id": "ydMZGkeYzx9H",
        "outputId": "12fa6470-8b56-41f8-d780-2fef257a9ac8"
      },
      "outputs": [
        {
          "output_type": "stream",
          "name": "stdout",
          "text": [
            "Number of images in each folder:\n",
            "Class 'nun': 654 images\n",
            "Class 'al': 483 images\n",
            "Class 'saad': 682 images\n",
            "Class 'gaaf': 616 images\n",
            "Class 'waw': 493 images\n",
            "Class 'ghain': 741 images\n",
            "Class 'ya': 619 images\n",
            "Class 'haa': 549 images\n",
            "Class 'ha': 572 images\n",
            "Class 'thaa': 635 images\n",
            "Class 'toot': 644 images\n",
            "Class 'thal': 569 images\n",
            "Class 'dhad': 604 images\n",
            "Class 'taa': 661 images\n",
            "Class 'aleff': 601 images\n",
            "Class 'ain': 763 images\n",
            "Class 'jeem': 563 images\n",
            "Class 'dha': 626 images\n",
            "Class 'la': 632 images\n",
            "Class 'khaa': 578 images\n",
            "Class 'ra': 596 images\n",
            "Class 'bb': 650 images\n",
            "Class 'sheen': 542 images\n",
            "Class 'ta': 653 images\n",
            "Class 'dal': 587 images\n",
            "Class 'zay': 494 images\n",
            "Class 'yaa': 465 images\n",
            "Class 'seen': 589 images\n",
            "Class 'fa': 704 images\n",
            "Class 'laam': 659 images\n",
            "Class 'meem': 635 images\n",
            "Class 'kaaf': 638 images\n"
          ]
        }
      ],
      "source": [
        "#show the number of images in the test dataset\n",
        "import os\n",
        "dataset_dir = '/content/content/Test_Database'\n",
        "image_counts = {}\n",
        "\n",
        "for class_name in os.listdir(dataset_dir):\n",
        "    class_dir = os.path.join(dataset_dir, class_name)\n",
        "    if not os.path.isdir(class_dir):\n",
        "        continue\n",
        "\n",
        "    files = os.listdir(class_dir)\n",
        "    num_images = len(files)\n",
        "    image_counts[class_name] = num_images\n",
        "\n",
        "print(\"Number of images in each folder:\")\n",
        "for class_name, count in image_counts.items():\n",
        "    print(f\"Class '{class_name}': {count} images\")\n"
      ]
    },
    {
      "cell_type": "markdown",
      "source": [
        "**Data Augmentation and Split Data into Training, Validation, and Testing**"
      ],
      "metadata": {
        "id": "kmpl7XM_n9bq"
      }
    },
    {
      "cell_type": "code",
      "execution_count": null,
      "metadata": {
        "colab": {
          "base_uri": "https://localhost:8080/"
        },
        "id": "r68kPFlw5UcZ",
        "outputId": "00f7f246-3907-4c08-d240-aa289a8f5426"
      },
      "outputs": [
        {
          "output_type": "stream",
          "name": "stdout",
          "text": [
            "Found 39093 images belonging to 32 classes.\n",
            "Found 4328 images belonging to 32 classes.\n",
            "Found 10838 images belonging to 32 classes.\n"
          ]
        }
      ],
      "source": [
        "from tensorflow.keras.preprocessing.image import ImageDataGenerator\n",
        "\n",
        "\n",
        "train_dir = '/content/content/ArASL_Database'\n",
        "test_dir = '/content/content/Test_Database'\n",
        "\n",
        "#Data augmentation for training ( if it's necessary)\n",
        "#train_datagen = ImageDataGenerator(\n",
        " #   rescale=1.0/255,\n",
        "  #  rotation_range=10,\n",
        "   # width_shift_range=0.1,\n",
        "    #height_shift_range=0.1,\n",
        "    #shear_range=0.1,\n",
        "    #zoom_range=0.1,\n",
        "    #horizontal_flip=True,\n",
        "    #fill_mode='nearest',\n",
        "    #validation_split=0.1\n",
        "#)\n",
        "\n",
        "# Training data generator\n",
        "train_datagen = ImageDataGenerator(rescale=1.0/255,validation_split=0.1)\n",
        "train_generator = train_datagen.flow_from_directory(\n",
        "    train_dir,\n",
        "    target_size=(64, 64),\n",
        "    batch_size=32,\n",
        "    class_mode='categorical',\n",
        "    subset='training'\n",
        ")\n",
        "\n",
        "# Validation data generator\n",
        "validation_generator = train_datagen.flow_from_directory(\n",
        "    train_dir,\n",
        "    target_size=(64, 64),\n",
        "    batch_size=32,\n",
        "    class_mode='categorical',\n",
        "    subset='validation'\n",
        ")\n",
        "\n",
        "# Test data generator\n",
        "test_datagen = ImageDataGenerator(rescale=1.0/255)\n",
        "test_generator = test_datagen.flow_from_directory(\n",
        "    test_dir,\n",
        "    target_size=(64, 64),\n",
        "    batch_size=32,\n",
        "    class_mode='categorical',\n",
        "    shuffle=False\n",
        ")\n"
      ]
    },
    {
      "cell_type": "code",
      "execution_count": null,
      "metadata": {
        "colab": {
          "base_uri": "https://localhost:8080/",
          "height": 500
        },
        "id": "K_tRYpDOBYJO",
        "outputId": "f675412c-b2bb-47c1-da5a-f47af91c6c85"
      },
      "outputs": [
        {
          "output_type": "display_data",
          "data": {
            "text/plain": [
              "<Figure size 1200x600 with 10 Axes>"
            ],
            "image/png": "[encoded data removed]"
          },
          "metadata": {}
        }
      ],
      "source": [
        "#visualize some of images after augmentation\n",
        "import matplotlib.pyplot as plt\n",
        "images, labels = next(train_generator)\n",
        "\n",
        "plt.figure(figsize=(12, 6))\n",
        "for i in range(10):\n",
        "    plt.subplot(2, 5, i + 1)\n",
        "    plt.imshow(images[i])\n",
        "    plt.title(f\"Class: {list(train_generator.class_indices.keys())[labels[i].argmax()]}\")\n",
        "    plt.axis('off')\n",
        "plt.tight_layout()\n",
        "plt.show()"
      ]
    },
    {
      "cell_type": "markdown",
      "metadata": {
        "id": "1qCPm3YIOeUn"
      },
      "source": [
        "# **Build the CNN Model**"
      ]
    },
    {
      "cell_type": "code",
      "execution_count": null,
      "metadata": {
        "id": "pBsop2D6PDNG"
      },
      "outputs": [],
      "source": [
        "from tensorflow.keras.models import Sequential\n",
        "from tensorflow.keras.layers import Conv2D, MaxPooling2D, Flatten, Dense, Dropout"
      ]
    },
    {
      "cell_type": "code",
      "execution_count": null,
      "metadata": {
        "id": "PbXQa5AHd0k9",
        "colab": {
          "base_uri": "https://localhost:8080/"
        },
        "outputId": "43f6a641-32d6-49e2-e6ea-458c49495d2c"
      },
      "outputs": [
        {
          "output_type": "stream",
          "name": "stderr",
          "text": [
            "/usr/local/lib/python3.10/dist-packages/keras/src/layers/convolutional/base_conv.py:107: UserWarning: Do not pass an `input_shape`/`input_dim` argument to a layer. When using Sequential models, prefer using an `Input(shape)` object as the first layer in the model instead.\n",
            "  super().__init__(activity_regularizer=activity_regularizer, **kwargs)\n"
          ]
        }
      ],
      "source": [
        "#design the model\n",
        "model = Sequential([\n",
        "    Conv2D(64, (3, 3),padding='same', activation='relu', input_shape=(64, 64, 3)),\n",
        "    MaxPooling2D(pool_size=(2, 2)),\n",
        "\n",
        "\n",
        "    Conv2D(128, (3, 3), padding='same', activation='relu'),\n",
        "    MaxPooling2D(pool_size=(2, 2)),\n",
        "\n",
        "\n",
        "    Conv2D(128, (3, 3),padding='same', activation='relu'),\n",
        "    MaxPooling2D(pool_size=(2, 2)),\n",
        "\n",
        "    Dropout(0.3),\n",
        "    Flatten(),\n",
        "    Dense(128, activation='relu'),\n",
        "    Dense(train_generator.num_classes, activation='softmax')\n",
        "])\n"
      ]
    },
    {
      "cell_type": "code",
      "execution_count": null,
      "metadata": {
        "id": "Q1HBwjtJd584"
      },
      "outputs": [],
      "source": [
        "# Compile the model\n",
        "from tensorflow.keras.optimizers import Adam\n",
        "model.compile(optimizer=Adam(learning_rate=0.001), loss='categorical_crossentropy', metrics=['accuracy'])"
      ]
    },
    {
      "cell_type": "code",
      "execution_count": null,
      "metadata": {
        "colab": {
          "base_uri": "https://localhost:8080/",
          "height": 449
        },
        "id": "gzU7UWCOjmXJ",
        "outputId": "76a52d58-de94-41d2-b205-39d5b6e61ffa"
      },
      "outputs": [
        {
          "output_type": "display_data",
          "data": {
            "text/plain": [
              "\u001b[1mModel: \"sequential\"\u001b[0m\n"
            ],
            "text/html": [
              "<pre style=\"white-space:pre;overflow-x:auto;line-height:normal;font-family:Menlo,'DejaVu Sans Mono',consolas,'Courier New',monospace\"><span style=\"font-weight: bold\">Model: \"sequential\"</span>\n",
              "</pre>\n"
            ]
          },
          "metadata": {}
        },
        {
          "output_type": "display_data",
          "data": {
            "text/plain": [
              "┏━━━━━━━━━━━━━━━━━━━━━━━━━━━━━━━━━━━━━━┳━━━━━━━━━━━━━━━━━━━━━━━━━━━━━┳━━━━━━━━━━━━━━━━━┓\n",
              "┃\u001b[1m \u001b[0m\u001b[1mLayer (type)                        \u001b[0m\u001b[1m \u001b[0m┃\u001b[1m \u001b[0m\u001b[1mOutput Shape               \u001b[0m\u001b[1m \u001b[0m┃\u001b[1m \u001b[0m\u001b[1m        Param #\u001b[0m\u001b[1m \u001b[0m┃\n",
              "┡━━━━━━━━━━━━━━━━━━━━━━━━━━━━━━━━━━━━━━╇━━━━━━━━━━━━━━━━━━━━━━━━━━━━━╇━━━━━━━━━━━━━━━━━┩\n",
              "│ conv2d (\u001b[38;5;33mConv2D\u001b[0m)                      │ (\u001b[38;5;45mNone\u001b[0m, \u001b[38;5;34m64\u001b[0m, \u001b[38;5;34m64\u001b[0m, \u001b[38;5;34m64\u001b[0m)          │           \u001b[38;5;34m1,792\u001b[0m │\n",
              "├──────────────────────────────────────┼─────────────────────────────┼─────────────────┤\n",
              "│ max_pooling2d (\u001b[38;5;33mMaxPooling2D\u001b[0m)         │ (\u001b[38;5;45mNone\u001b[0m, \u001b[38;5;34m32\u001b[0m, \u001b[38;5;34m32\u001b[0m, \u001b[38;5;34m64\u001b[0m)          │               \u001b[38;5;34m0\u001b[0m │\n",
              "├──────────────────────────────────────┼─────────────────────────────┼─────────────────┤\n",
              "│ conv2d_1 (\u001b[38;5;33mConv2D\u001b[0m)                    │ (\u001b[38;5;45mNone\u001b[0m, \u001b[38;5;34m32\u001b[0m, \u001b[38;5;34m32\u001b[0m, \u001b[38;5;34m128\u001b[0m)         │          \u001b[38;5;34m73,856\u001b[0m │\n",
              "├──────────────────────────────────────┼─────────────────────────────┼─────────────────┤\n",
              "│ max_pooling2d_1 (\u001b[38;5;33mMaxPooling2D\u001b[0m)       │ (\u001b[38;5;45mNone\u001b[0m, \u001b[38;5;34m16\u001b[0m, \u001b[38;5;34m16\u001b[0m, \u001b[38;5;34m128\u001b[0m)         │               \u001b[38;5;34m0\u001b[0m │\n",
              "├──────────────────────────────────────┼─────────────────────────────┼─────────────────┤\n",
              "│ conv2d_2 (\u001b[38;5;33mConv2D\u001b[0m)                    │ (\u001b[38;5;45mNone\u001b[0m, \u001b[38;5;34m16\u001b[0m, \u001b[38;5;34m16\u001b[0m, \u001b[38;5;34m128\u001b[0m)         │         \u001b[38;5;34m147,584\u001b[0m │\n",
              "├──────────────────────────────────────┼─────────────────────────────┼─────────────────┤\n",
              "│ max_pooling2d_2 (\u001b[38;5;33mMaxPooling2D\u001b[0m)       │ (\u001b[38;5;45mNone\u001b[0m, \u001b[38;5;34m8\u001b[0m, \u001b[38;5;34m8\u001b[0m, \u001b[38;5;34m128\u001b[0m)           │               \u001b[38;5;34m0\u001b[0m │\n",
              "├──────────────────────────────────────┼─────────────────────────────┼─────────────────┤\n",
              "│ dropout (\u001b[38;5;33mDropout\u001b[0m)                    │ (\u001b[38;5;45mNone\u001b[0m, \u001b[38;5;34m8\u001b[0m, \u001b[38;5;34m8\u001b[0m, \u001b[38;5;34m128\u001b[0m)           │               \u001b[38;5;34m0\u001b[0m │\n",
              "├──────────────────────────────────────┼─────────────────────────────┼─────────────────┤\n",
              "│ flatten (\u001b[38;5;33mFlatten\u001b[0m)                    │ (\u001b[38;5;45mNone\u001b[0m, \u001b[38;5;34m8192\u001b[0m)                │               \u001b[38;5;34m0\u001b[0m │\n",
              "├──────────────────────────────────────┼─────────────────────────────┼─────────────────┤\n",
              "│ dense (\u001b[38;5;33mDense\u001b[0m)                        │ (\u001b[38;5;45mNone\u001b[0m, \u001b[38;5;34m128\u001b[0m)                 │       \u001b[38;5;34m1,048,704\u001b[0m │\n",
              "├──────────────────────────────────────┼─────────────────────────────┼─────────────────┤\n",
              "│ dense_1 (\u001b[38;5;33mDense\u001b[0m)                      │ (\u001b[38;5;45mNone\u001b[0m, \u001b[38;5;34m32\u001b[0m)                  │           \u001b[38;5;34m4,128\u001b[0m │\n",
              "└──────────────────────────────────────┴─────────────────────────────┴─────────────────┘\n"
            ],
            "text/html": [
              "<pre style=\"white-space:pre;overflow-x:auto;line-height:normal;font-family:Menlo,'DejaVu Sans Mono',consolas,'Courier New',monospace\">┏━━━━━━━━━━━━━━━━━━━━━━━━━━━━━━━━━━━━━━┳━━━━━━━━━━━━━━━━━━━━━━━━━━━━━┳━━━━━━━━━━━━━━━━━┓\n",
              "┃<span style=\"font-weight: bold\"> Layer (type)                         </span>┃<span style=\"font-weight: bold\"> Output Shape                </span>┃<span style=\"font-weight: bold\">         Param # </span>┃\n",
              "┡━━━━━━━━━━━━━━━━━━━━━━━━━━━━━━━━━━━━━━╇━━━━━━━━━━━━━━━━━━━━━━━━━━━━━╇━━━━━━━━━━━━━━━━━┩\n",
              "│ conv2d (<span style=\"color: #0087ff; text-decoration-color: #0087ff\">Conv2D</span>)                      │ (<span style=\"color: #00d7ff; text-decoration-color: #00d7ff\">None</span>, <span style=\"color: #00af00; text-decoration-color: #00af00\">64</span>, <span style=\"color: #00af00; text-decoration-color: #00af00\">64</span>, <span style=\"color: #00af00; text-decoration-color: #00af00\">64</span>)          │           <span style=\"color: #00af00; text-decoration-color: #00af00\">1,792</span> │\n",
              "├──────────────────────────────────────┼─────────────────────────────┼─────────────────┤\n",
              "│ max_pooling2d (<span style=\"color: #0087ff; text-decoration-color: #0087ff\">MaxPooling2D</span>)         │ (<span style=\"color: #00d7ff; text-decoration-color: #00d7ff\">None</span>, <span style=\"color: #00af00; text-decoration-color: #00af00\">32</span>, <span style=\"color: #00af00; text-decoration-color: #00af00\">32</span>, <span style=\"color: #00af00; text-decoration-color: #00af00\">64</span>)          │               <span style=\"color: #00af00; text-decoration-color: #00af00\">0</span> │\n",
              "├──────────────────────────────────────┼─────────────────────────────┼─────────────────┤\n",
              "│ conv2d_1 (<span style=\"color: #0087ff; text-decoration-color: #0087ff\">Conv2D</span>)                    │ (<span style=\"color: #00d7ff; text-decoration-color: #00d7ff\">None</span>, <span style=\"color: #00af00; text-decoration-color: #00af00\">32</span>, <span style=\"color: #00af00; text-decoration-color: #00af00\">32</span>, <span style=\"color: #00af00; text-decoration-color: #00af00\">128</span>)         │          <span style=\"color: #00af00; text-decoration-color: #00af00\">73,856</span> │\n",
              "├──────────────────────────────────────┼─────────────────────────────┼─────────────────┤\n",
              "│ max_pooling2d_1 (<span style=\"color: #0087ff; text-decoration-color: #0087ff\">MaxPooling2D</span>)       │ (<span style=\"color: #00d7ff; text-decoration-color: #00d7ff\">None</span>, <span style=\"color: #00af00; text-decoration-color: #00af00\">16</span>, <span style=\"color: #00af00; text-decoration-color: #00af00\">16</span>, <span style=\"color: #00af00; text-decoration-color: #00af00\">128</span>)         │               <span style=\"color: #00af00; text-decoration-color: #00af00\">0</span> │\n",
              "├──────────────────────────────────────┼─────────────────────────────┼─────────────────┤\n",
              "│ conv2d_2 (<span style=\"color: #0087ff; text-decoration-color: #0087ff\">Conv2D</span>)                    │ (<span style=\"color: #00d7ff; text-decoration-color: #00d7ff\">None</span>, <span style=\"color: #00af00; text-decoration-color: #00af00\">16</span>, <span style=\"color: #00af00; text-decoration-color: #00af00\">16</span>, <span style=\"color: #00af00; text-decoration-color: #00af00\">128</span>)         │         <span style=\"color: #00af00; text-decoration-color: #00af00\">147,584</span> │\n",
              "├──────────────────────────────────────┼─────────────────────────────┼─────────────────┤\n",
              "│ max_pooling2d_2 (<span style=\"color: #0087ff; text-decoration-color: #0087ff\">MaxPooling2D</span>)       │ (<span style=\"color: #00d7ff; text-decoration-color: #00d7ff\">None</span>, <span style=\"color: #00af00; text-decoration-color: #00af00\">8</span>, <span style=\"color: #00af00; text-decoration-color: #00af00\">8</span>, <span style=\"color: #00af00; text-decoration-color: #00af00\">128</span>)           │               <span style=\"color: #00af00; text-decoration-color: #00af00\">0</span> │\n",
              "├──────────────────────────────────────┼─────────────────────────────┼─────────────────┤\n",
              "│ dropout (<span style=\"color: #0087ff; text-decoration-color: #0087ff\">Dropout</span>)                    │ (<span style=\"color: #00d7ff; text-decoration-color: #00d7ff\">None</span>, <span style=\"color: #00af00; text-decoration-color: #00af00\">8</span>, <span style=\"color: #00af00; text-decoration-color: #00af00\">8</span>, <span style=\"color: #00af00; text-decoration-color: #00af00\">128</span>)           │               <span style=\"color: #00af00; text-decoration-color: #00af00\">0</span> │\n",
              "├──────────────────────────────────────┼─────────────────────────────┼─────────────────┤\n",
              "│ flatten (<span style=\"color: #0087ff; text-decoration-color: #0087ff\">Flatten</span>)                    │ (<span style=\"color: #00d7ff; text-decoration-color: #00d7ff\">None</span>, <span style=\"color: #00af00; text-decoration-color: #00af00\">8192</span>)                │               <span style=\"color: #00af00; text-decoration-color: #00af00\">0</span> │\n",
              "├──────────────────────────────────────┼─────────────────────────────┼─────────────────┤\n",
              "│ dense (<span style=\"color: #0087ff; text-decoration-color: #0087ff\">Dense</span>)                        │ (<span style=\"color: #00d7ff; text-decoration-color: #00d7ff\">None</span>, <span style=\"color: #00af00; text-decoration-color: #00af00\">128</span>)                 │       <span style=\"color: #00af00; text-decoration-color: #00af00\">1,048,704</span> │\n",
              "├──────────────────────────────────────┼─────────────────────────────┼─────────────────┤\n",
              "│ dense_1 (<span style=\"color: #0087ff; text-decoration-color: #0087ff\">Dense</span>)                      │ (<span style=\"color: #00d7ff; text-decoration-color: #00d7ff\">None</span>, <span style=\"color: #00af00; text-decoration-color: #00af00\">32</span>)                  │           <span style=\"color: #00af00; text-decoration-color: #00af00\">4,128</span> │\n",
              "└──────────────────────────────────────┴─────────────────────────────┴─────────────────┘\n",
              "</pre>\n"
            ]
          },
          "metadata": {}
        },
        {
          "output_type": "display_data",
          "data": {
            "text/plain": [
              "\u001b[1m Total params: \u001b[0m\u001b[38;5;34m1,276,064\u001b[0m (4.87 MB)\n"
            ],
            "text/html": [
              "<pre style=\"white-space:pre;overflow-x:auto;line-height:normal;font-family:Menlo,'DejaVu Sans Mono',consolas,'Courier New',monospace\"><span style=\"font-weight: bold\"> Total params: </span><span style=\"color: #00af00; text-decoration-color: #00af00\">1,276,064</span> (4.87 MB)\n",
              "</pre>\n"
            ]
          },
          "metadata": {}
        },
        {
          "output_type": "display_data",
          "data": {
            "text/plain": [
              "\u001b[1m Trainable params: \u001b[0m\u001b[38;5;34m1,276,064\u001b[0m (4.87 MB)\n"
            ],
            "text/html": [
              "<pre style=\"white-space:pre;overflow-x:auto;line-height:normal;font-family:Menlo,'DejaVu Sans Mono',consolas,'Courier New',monospace\"><span style=\"font-weight: bold\"> Trainable params: </span><span style=\"color: #00af00; text-decoration-color: #00af00\">1,276,064</span> (4.87 MB)\n",
              "</pre>\n"
            ]
          },
          "metadata": {}
        },
        {
          "output_type": "display_data",
          "data": {
            "text/plain": [
              "\u001b[1m Non-trainable params: \u001b[0m\u001b[38;5;34m0\u001b[0m (0.00 B)\n"
            ],
            "text/html": [
              "<pre style=\"white-space:pre;overflow-x:auto;line-height:normal;font-family:Menlo,'DejaVu Sans Mono',consolas,'Courier New',monospace\"><span style=\"font-weight: bold\"> Non-trainable params: </span><span style=\"color: #00af00; text-decoration-color: #00af00\">0</span> (0.00 B)\n",
              "</pre>\n"
            ]
          },
          "metadata": {}
        }
      ],
      "source": [
        "# Summary of the model\n",
        "model.summary()"
      ]
    },
    {
      "cell_type": "code",
      "execution_count": null,
      "metadata": {
        "id": "4Vs_JMgw1qcw"
      },
      "outputs": [],
      "source": [
        "# Define the checkpoint callback before training\n",
        "\n",
        "from tensorflow.keras.callbacks import ModelCheckpoint\n",
        "checkpoint = ModelCheckpoint(\n",
        "    filepath='/content/drive/MyDrive/Projects/ArSLR/checkpoint/best_model.keras',\n",
        "    monitor='val_loss',\n",
        "    mode='min',\n",
        "    save_best_only=True,\n",
        "    verbose=1\n",
        ")"
      ]
    },
    {
      "cell_type": "markdown",
      "source": [
        "**Balancing classes**"
      ],
      "metadata": {
        "id": "uwEd6wUMoqzV"
      }
    },
    {
      "cell_type": "code",
      "source": [
        "#Balancing classes (when we need it )\n",
        "import numpy as np\n",
        "from sklearn.utils.class_weight import compute_class_weight\n",
        "\n",
        "class_indices = train_generator.classes\n",
        "class_labels = np.unique(class_indices)\n",
        "class_weights = compute_class_weight(\n",
        "    class_weight='balanced',\n",
        "    classes=np.unique(class_labels),\n",
        "    y=class_indices\n",
        ")\n",
        "\n",
        "class_weights_dict = dict(enumerate(class_weights))\n",
        "\n",
        "print(\"Class Weights:\", class_weights_dict)\n"
      ],
      "metadata": {
        "colab": {
          "base_uri": "https://localhost:8080/"
        },
        "id": "nR2UE5iV3QBf",
        "outputId": "0635cf99-55dc-45b2-e0f2-c333ab8cc882"
      },
      "execution_count": null,
      "outputs": [
        {
          "output_type": "stream",
          "name": "stdout",
          "text": [
            "Class Weights: {0: 0.798468137254902, 1: 1.2620415805785123, 2: 1.0138226141078839, 3: 0.9361350574712644, 4: 1.0370596349745331, 5: 0.97265625, 6: 1.0096332644628099, 7: 0.8658088235294118, 8: 0.9907998783454988, 9: 0.812811876247505, 10: 1.0650882737576286, 11: 1.1116071428571428, 12: 1.0782491173874669, 13: 0.955912558685446, 14: 1.0549708549222798, 15: 0.9657361660079051, 16: 0.9254971590909091, 17: 0.9611772226593234, 18: 0.9318506864988558, 19: 1.0214517140468227, 20: 0.8949862637362638, 21: 1.035301906779661, 22: 1.1249136740331491, 23: 0.9339879587155964, 24: 0.9227010951661632, 25: 0.9604215801886793, 26: 1.0716282894736842, 27: 0.9470203488372093, 28: 1.2364941801619433, 29: 0.9844127719580983, 30: 1.3107899678111588, 31: 1.233996212121212}\n"
          ]
        }
      ]
    },
    {
      "cell_type": "code",
      "execution_count": null,
      "metadata": {
        "colab": {
          "base_uri": "https://localhost:8080/"
        },
        "id": "U6Q4uBf0kbup",
        "outputId": "82798d5c-baf4-466d-8999-e34c856c1938"
      },
      "outputs": [
        {
          "metadata": {
            "tags": null
          },
          "name": "stdout",
          "output_type": "stream",
          "text": [
            "Epoch 1/100\n"
          ]
        },
        {
          "metadata": {
            "tags": null
          },
          "name": "stderr",
          "output_type": "stream",
          "text": [
            "/usr/local/lib/python3.10/dist-packages/keras/src/trainers/data_adapters/py_dataset_adapter.py:122: UserWarning: Your `PyDataset` class should call `super().__init__(**kwargs)` in its constructor. `**kwargs` can include `workers`, `use_multiprocessing`, `max_queue_size`. Do not pass these arguments to `fit()`, as they will be ignored.\n",
            "  self._warn_if_super_not_called()\n"
          ]
        },
        {
          "metadata": {
            "tags": null
          },
          "name": "stdout",
          "output_type": "stream",
          "text": [
            "\u001b[1m64/64\u001b[0m \u001b[32m━━━━━━━━━━━━━━━━━━━━\u001b[0m\u001b[37m\u001b[0m \u001b[1m0s\u001b[0m 825ms/step - accuracy: 0.0368 - loss: 3.4744\n",
            "Epoch 1: val_loss improved from inf to 3.46470, saving model to /content/drive/MyDrive/Projects/ArSLR/checkpoint/best_model.keras\n",
            "\u001b[1m64/64\u001b[0m \u001b[32m━━━━━━━━━━━━━━━━━━━━\u001b[0m\u001b[37m\u001b[0m \u001b[1m72s\u001b[0m 1s/step - accuracy: 0.0368 - loss: 3.4743 - val_accuracy: 0.0225 - val_loss: 3.4647\n",
            "Epoch 2/100\n",
            "\u001b[1m64/64\u001b[0m \u001b[32m━━━━━━━━━━━━━━━━━━━━\u001b[0m\u001b[37m\u001b[0m \u001b[1m0s\u001b[0m 741ms/step - accuracy: 0.0595 - loss: 3.4305\n",
            "Epoch 2: val_loss improved from 3.46470 to 3.12280, saving model to /content/drive/MyDrive/Projects/ArSLR/checkpoint/best_model.keras\n",
            "\u001b[1m64/64\u001b[0m \u001b[32m━━━━━━━━━━━━━━━━━━━━\u001b[0m\u001b[37m\u001b[0m \u001b[1m59s\u001b[0m 930ms/step - accuracy: 0.0598 - loss: 3.4290 - val_accuracy: 0.1714 - val_loss: 3.1228\n",
            "Epoch 3/100\n",
            "\u001b[1m64/64\u001b[0m \u001b[32m━━━━━━━━━━━━━━━━━━━━\u001b[0m\u001b[37m\u001b[0m \u001b[1m0s\u001b[0m 765ms/step - accuracy: 0.2327 - loss: 2.7780"
          ]
        },
        {
          "metadata": {
            "tags": null
          },
          "name": "stderr",
          "output_type": "stream",
          "text": [
            "/usr/lib/python3.10/contextlib.py:153: UserWarning: Your input ran out of data; interrupting training. Make sure that your dataset or generator can generate at least `steps_per_epoch * epochs` batches. You may need to use the `.repeat()` function when building your dataset.\n",
            "  self.gen.throw(typ, value, traceback)\n"
          ]
        },
        {
          "output_type": "stream",
          "name": "stdout",
          "text": [
            "\n",
            "Epoch 3: val_loss improved from 3.12280 to 2.26407, saving model to /content/drive/MyDrive/Projects/ArSLR/checkpoint/best_model.keras\n",
            "\u001b[1m64/64\u001b[0m \u001b[32m━━━━━━━━━━━━━━━━━━━━\u001b[0m\u001b[37m\u001b[0m \u001b[1m67s\u001b[0m 1s/step - accuracy: 0.2332 - loss: 2.7745 - val_accuracy: 0.3491 - val_loss: 2.2641\n",
            "Epoch 4/100\n",
            "\u001b[1m64/64\u001b[0m \u001b[32m━━━━━━━━━━━━━━━━━━━━\u001b[0m\u001b[37m\u001b[0m \u001b[1m0s\u001b[0m 745ms/step - accuracy: 0.4109 - loss: 2.0099\n",
            "Epoch 4: val_loss improved from 2.26407 to 1.78964, saving model to /content/drive/MyDrive/Projects/ArSLR/checkpoint/best_model.keras\n",
            "\u001b[1m64/64\u001b[0m \u001b[32m━━━━━━━━━━━━━━━━━━━━\u001b[0m\u001b[37m\u001b[0m \u001b[1m62s\u001b[0m 972ms/step - accuracy: 0.4115 - loss: 2.0075 - val_accuracy: 0.4033 - val_loss: 1.7896\n",
            "Epoch 5/100\n",
            "\u001b[1m64/64\u001b[0m \u001b[32m━━━━━━━━━━━━━━━━━━━━\u001b[0m\u001b[37m\u001b[0m \u001b[1m0s\u001b[0m 764ms/step - accuracy: 0.5432 - loss: 1.4492\n",
            "Epoch 5: val_loss improved from 1.78964 to 1.57295, saving model to /content/drive/MyDrive/Projects/ArSLR/checkpoint/best_model.keras\n",
            "\u001b[1m64/64\u001b[0m \u001b[32m━━━━━━━━━━━━━━━━━━━━\u001b[0m\u001b[37m\u001b[0m \u001b[1m63s\u001b[0m 991ms/step - accuracy: 0.5433 - loss: 1.4489 - val_accuracy: 0.5010 - val_loss: 1.5730\n",
            "Epoch 6/100\n",
            "\u001b[1m64/64\u001b[0m \u001b[32m━━━━━━━━━━━━━━━━━━━━\u001b[0m\u001b[37m\u001b[0m \u001b[1m0s\u001b[0m 752ms/step - accuracy: 0.6545 - loss: 1.1721\n",
            "Epoch 6: val_loss improved from 1.57295 to 1.33701, saving model to /content/drive/MyDrive/Projects/ArSLR/checkpoint/best_model.keras\n",
            "\u001b[1m64/64\u001b[0m \u001b[32m━━━━━━━━━━━━━━━━━━━━\u001b[0m\u001b[37m\u001b[0m \u001b[1m50s\u001b[0m 779ms/step - accuracy: 0.6545 - loss: 1.1718 - val_accuracy: 0.6121 - val_loss: 1.3370\n",
            "Epoch 7/100\n",
            "\u001b[1m64/64\u001b[0m \u001b[32m━━━━━━━━━━━━━━━━━━━━\u001b[0m\u001b[37m\u001b[0m \u001b[1m0s\u001b[0m 724ms/step - accuracy: 0.6788 - loss: 1.1188\n",
            "Epoch 7: val_loss improved from 1.33701 to 1.23101, saving model to /content/drive/MyDrive/Projects/ArSLR/checkpoint/best_model.keras\n",
            "\u001b[1m64/64\u001b[0m \u001b[32m━━━━━━━━━━━━━━━━━━━━\u001b[0m\u001b[37m\u001b[0m \u001b[1m59s\u001b[0m 926ms/step - accuracy: 0.6791 - loss: 1.1175 - val_accuracy: 0.6304 - val_loss: 1.2310\n",
            "Epoch 8/100\n",
            "\u001b[1m64/64\u001b[0m \u001b[32m━━━━━━━━━━━━━━━━━━━━\u001b[0m\u001b[37m\u001b[0m \u001b[1m0s\u001b[0m 755ms/step - accuracy: 0.7281 - loss: 0.8976\n",
            "Epoch 8: val_loss did not improve from 1.23101\n",
            "\u001b[1m64/64\u001b[0m \u001b[32m━━━━━━━━━━━━━━━━━━━━\u001b[0m\u001b[37m\u001b[0m \u001b[1m62s\u001b[0m 968ms/step - accuracy: 0.7283 - loss: 0.8966 - val_accuracy: 0.6299 - val_loss: 1.2353\n",
            "Epoch 9/100\n",
            "\u001b[1m64/64\u001b[0m \u001b[32m━━━━━━━━━━━━━━━━━━━━\u001b[0m\u001b[37m\u001b[0m \u001b[1m0s\u001b[0m 751ms/step - accuracy: 0.7651 - loss: 0.7399\n",
            "Epoch 9: val_loss did not improve from 1.23101\n",
            "\u001b[1m64/64\u001b[0m \u001b[32m━━━━━━━━━━━━━━━━━━━━\u001b[0m\u001b[37m\u001b[0m \u001b[1m49s\u001b[0m 771ms/step - accuracy: 0.7653 - loss: 0.7397 - val_accuracy: 0.5733 - val_loss: 1.4079\n",
            "Epoch 10/100\n",
            "\u001b[1m64/64\u001b[0m \u001b[32m━━━━━━━━━━━━━━━━━━━━\u001b[0m\u001b[37m\u001b[0m \u001b[1m0s\u001b[0m 749ms/step - accuracy: 0.8148 - loss: 0.5827\n",
            "Epoch 10: val_loss improved from 1.23101 to 1.13216, saving model to /content/drive/MyDrive/Projects/ArSLR/checkpoint/best_model.keras\n",
            "\u001b[1m64/64\u001b[0m \u001b[32m━━━━━━━━━━━━━━━━━━━━\u001b[0m\u001b[37m\u001b[0m \u001b[1m60s\u001b[0m 944ms/step - accuracy: 0.8148 - loss: 0.5829 - val_accuracy: 0.6274 - val_loss: 1.1322\n",
            "Epoch 11/100\n",
            "\u001b[1m64/64\u001b[0m \u001b[32m━━━━━━━━━━━━━━━━━━━━\u001b[0m\u001b[37m\u001b[0m \u001b[1m0s\u001b[0m 840ms/step - accuracy: 0.8232 - loss: 0.6050\n",
            "Epoch 11: val_loss improved from 1.13216 to 1.02154, saving model to /content/drive/MyDrive/Projects/ArSLR/checkpoint/best_model.keras\n",
            "\u001b[1m64/64\u001b[0m \u001b[32m━━━━━━━━━━━━━━━━━━━━\u001b[0m\u001b[37m\u001b[0m \u001b[1m66s\u001b[0m 1s/step - accuracy: 0.8234 - loss: 0.6045 - val_accuracy: 0.6699 - val_loss: 1.0215\n",
            "Epoch 12/100\n",
            "\u001b[1m64/64\u001b[0m \u001b[32m━━━━━━━━━━━━━━━━━━━━\u001b[0m\u001b[37m\u001b[0m \u001b[1m0s\u001b[0m 739ms/step - accuracy: 0.8304 - loss: 0.5663\n",
            "Epoch 12: val_loss did not improve from 1.02154\n",
            "\u001b[1m64/64\u001b[0m \u001b[32m━━━━━━━━━━━━━━━━━━━━\u001b[0m\u001b[37m\u001b[0m \u001b[1m50s\u001b[0m 773ms/step - accuracy: 0.8307 - loss: 0.5656 - val_accuracy: 0.6983 - val_loss: 1.1123\n",
            "Epoch 13/100\n",
            "\u001b[1m64/64\u001b[0m \u001b[32m━━━━━━━━━━━━━━━━━━━━\u001b[0m\u001b[37m\u001b[0m \u001b[1m0s\u001b[0m 713ms/step - accuracy: 0.8664 - loss: 0.5043\n",
            "Epoch 13: val_loss improved from 1.02154 to 0.98238, saving model to /content/drive/MyDrive/Projects/ArSLR/checkpoint/best_model.keras\n",
            "\u001b[1m64/64\u001b[0m \u001b[32m━━━━━━━━━━━━━━━━━━━━\u001b[0m\u001b[37m\u001b[0m \u001b[1m59s\u001b[0m 927ms/step - accuracy: 0.8664 - loss: 0.5039 - val_accuracy: 0.6685 - val_loss: 0.9824\n",
            "Epoch 14/100\n",
            "\u001b[1m64/64\u001b[0m \u001b[32m━━━━━━━━━━━━━━━━━━━━\u001b[0m\u001b[37m\u001b[0m \u001b[1m0s\u001b[0m 740ms/step - accuracy: 0.8692 - loss: 0.5252\n",
            "Epoch 14: val_loss improved from 0.98238 to 0.97677, saving model to /content/drive/MyDrive/Projects/ArSLR/checkpoint/best_model.keras\n",
            "\u001b[1m64/64\u001b[0m \u001b[32m━━━━━━━━━━━━━━━━━━━━\u001b[0m\u001b[37m\u001b[0m \u001b[1m61s\u001b[0m 964ms/step - accuracy: 0.8692 - loss: 0.5242 - val_accuracy: 0.7002 - val_loss: 0.9768\n",
            "Epoch 15/100\n",
            "\u001b[1m64/64\u001b[0m \u001b[32m━━━━━━━━━━━━━━━━━━━━\u001b[0m\u001b[37m\u001b[0m \u001b[1m0s\u001b[0m 742ms/step - accuracy: 0.8814 - loss: 0.3961\n",
            "Epoch 15: val_loss improved from 0.97677 to 0.94056, saving model to /content/drive/MyDrive/Projects/ArSLR/checkpoint/best_model.keras\n",
            "\u001b[1m64/64\u001b[0m \u001b[32m━━━━━━━━━━━━━━━━━━━━\u001b[0m\u001b[37m\u001b[0m \u001b[1m49s\u001b[0m 763ms/step - accuracy: 0.8813 - loss: 0.3965 - val_accuracy: 0.7198 - val_loss: 0.9406\n",
            "Epoch 16/100\n",
            "\u001b[1m64/64\u001b[0m \u001b[32m━━━━━━━━━━━━━━━━━━━━\u001b[0m\u001b[37m\u001b[0m \u001b[1m0s\u001b[0m 722ms/step - accuracy: 0.8725 - loss: 0.4129\n",
            "Epoch 16: val_loss improved from 0.94056 to 0.91423, saving model to /content/drive/MyDrive/Projects/ArSLR/checkpoint/best_model.keras\n",
            "\u001b[1m64/64\u001b[0m \u001b[32m━━━━━━━━━━━━━━━━━━━━\u001b[0m\u001b[37m\u001b[0m \u001b[1m58s\u001b[0m 908ms/step - accuracy: 0.8728 - loss: 0.4125 - val_accuracy: 0.7407 - val_loss: 0.9142\n",
            "Epoch 17/100\n",
            "\u001b[1m64/64\u001b[0m \u001b[32m━━━━━━━━━━━━━━━━━━━━\u001b[0m\u001b[37m\u001b[0m \u001b[1m0s\u001b[0m 741ms/step - accuracy: 0.8880 - loss: 0.3877\n",
            "Epoch 17: val_loss did not improve from 0.91423\n",
            "\u001b[1m64/64\u001b[0m \u001b[32m━━━━━━━━━━━━━━━━━━━━\u001b[0m\u001b[37m\u001b[0m \u001b[1m61s\u001b[0m 951ms/step - accuracy: 0.8880 - loss: 0.3874 - val_accuracy: 0.7295 - val_loss: 0.9284\n",
            "Epoch 18/100\n",
            "\u001b[1m64/64\u001b[0m \u001b[32m━━━━━━━━━━━━━━━━━━━━\u001b[0m\u001b[37m\u001b[0m \u001b[1m0s\u001b[0m 739ms/step - accuracy: 0.9159 - loss: 0.3227\n",
            "Epoch 18: val_loss did not improve from 0.91423\n",
            "\u001b[1m64/64\u001b[0m \u001b[32m━━━━━━━━━━━━━━━━━━━━\u001b[0m\u001b[37m\u001b[0m \u001b[1m48s\u001b[0m 759ms/step - accuracy: 0.9157 - loss: 0.3228 - val_accuracy: 0.7026 - val_loss: 1.0469\n",
            "Epoch 19/100\n",
            "\u001b[1m64/64\u001b[0m \u001b[32m━━━━━━━━━━━━━━━━━━━━\u001b[0m\u001b[37m\u001b[0m \u001b[1m0s\u001b[0m 756ms/step - accuracy: 0.8959 - loss: 0.3385\n",
            "Epoch 19: val_loss improved from 0.91423 to 0.90384, saving model to /content/drive/MyDrive/Projects/ArSLR/checkpoint/best_model.keras\n",
            "\u001b[1m64/64\u001b[0m \u001b[32m━━━━━━━━━━━━━━━━━━━━\u001b[0m\u001b[37m\u001b[0m \u001b[1m62s\u001b[0m 972ms/step - accuracy: 0.8959 - loss: 0.3384 - val_accuracy: 0.7324 - val_loss: 0.9038\n",
            "Epoch 20/100\n",
            "\u001b[1m 6/64\u001b[0m \u001b[32m━\u001b[0m\u001b[37m━━━━━━━━━━━━━━━━━━━\u001b[0m \u001b[1m35s\u001b[0m 614ms/step - accuracy: 0.9102 - loss: 0.2830\n",
            "Epoch 20: val_loss did not improve from 0.90384\n",
            "\u001b[1m64/64\u001b[0m \u001b[32m━━━━━━━━━━━━━━━━━━━━\u001b[0m\u001b[37m\u001b[0m \u001b[1m18s\u001b[0m 275ms/step - accuracy: 0.9113 - loss: 0.2957 - val_accuracy: 0.7261 - val_loss: 0.9355\n",
            "Epoch 21/100\n",
            "\u001b[1m64/64\u001b[0m \u001b[32m━━━━━━━━━━━━━━━━━━━━\u001b[0m\u001b[37m\u001b[0m \u001b[1m0s\u001b[0m 749ms/step - accuracy: 0.9186 - loss: 0.3175\n",
            "Epoch 21: val_loss did not improve from 0.90384\n",
            "\u001b[1m64/64\u001b[0m \u001b[32m━━━━━━━━━━━━━━━━━━━━\u001b[0m\u001b[37m\u001b[0m \u001b[1m50s\u001b[0m 784ms/step - accuracy: 0.9186 - loss: 0.3174 - val_accuracy: 0.6983 - val_loss: 0.9388\n",
            "Epoch 22/100\n",
            "\u001b[1m64/64\u001b[0m \u001b[32m━━━━━━━━━━━━━━━━━━━━\u001b[0m\u001b[37m\u001b[0m \u001b[1m0s\u001b[0m 752ms/step - accuracy: 0.9030 - loss: 0.3396\n",
            "Epoch 22: val_loss improved from 0.90384 to 0.85944, saving model to /content/drive/MyDrive/Projects/ArSLR/checkpoint/best_model.keras\n",
            "\u001b[1m64/64\u001b[0m \u001b[32m━━━━━━━━━━━━━━━━━━━━\u001b[0m\u001b[37m\u001b[0m \u001b[1m61s\u001b[0m 960ms/step - accuracy: 0.9031 - loss: 0.3394 - val_accuracy: 0.7583 - val_loss: 0.8594\n",
            "Epoch 23/100\n",
            "\u001b[1m64/64\u001b[0m \u001b[32m━━━━━━━━━━━━━━━━━━━━\u001b[0m\u001b[37m\u001b[0m \u001b[1m0s\u001b[0m 736ms/step - accuracy: 0.9081 - loss: 0.2907\n",
            "Epoch 23: val_loss did not improve from 0.85944\n",
            "\u001b[1m64/64\u001b[0m \u001b[32m━━━━━━━━━━━━━━━━━━━━\u001b[0m\u001b[37m\u001b[0m \u001b[1m60s\u001b[0m 939ms/step - accuracy: 0.9082 - loss: 0.2907 - val_accuracy: 0.7007 - val_loss: 1.0273\n",
            "Epoch 24/100\n",
            "\u001b[1m64/64\u001b[0m \u001b[32m━━━━━━━━━━━━━━━━━━━━\u001b[0m\u001b[37m\u001b[0m \u001b[1m0s\u001b[0m 756ms/step - accuracy: 0.9110 - loss: 0.3058\n",
            "Epoch 24: val_loss improved from 0.85944 to 0.70850, saving model to /content/drive/MyDrive/Projects/ArSLR/checkpoint/best_model.keras\n",
            "\u001b[1m64/64\u001b[0m \u001b[32m━━━━━━━━━━━━━━━━━━━━\u001b[0m\u001b[37m\u001b[0m \u001b[1m50s\u001b[0m 778ms/step - accuracy: 0.9113 - loss: 0.3051 - val_accuracy: 0.7759 - val_loss: 0.7085\n",
            "Epoch 25/100\n",
            "\u001b[1m64/64\u001b[0m \u001b[32m━━━━━━━━━━━━━━━━━━━━\u001b[0m\u001b[37m\u001b[0m \u001b[1m0s\u001b[0m 751ms/step - accuracy: 0.9244 - loss: 0.2573\n",
            "Epoch 25: val_loss did not improve from 0.70850\n",
            "\u001b[1m64/64\u001b[0m \u001b[32m━━━━━━━━━━━━━━━━━━━━\u001b[0m\u001b[37m\u001b[0m \u001b[1m62s\u001b[0m 969ms/step - accuracy: 0.9244 - loss: 0.2577 - val_accuracy: 0.7573 - val_loss: 0.8784\n",
            "Epoch 26/100\n",
            "\u001b[1m64/64\u001b[0m \u001b[32m━━━━━━━━━━━━━━━━━━━━\u001b[0m\u001b[37m\u001b[0m \u001b[1m0s\u001b[0m 744ms/step - accuracy: 0.9215 - loss: 0.2759\n",
            "Epoch 26: val_loss did not improve from 0.70850\n",
            "\u001b[1m64/64\u001b[0m \u001b[32m━━━━━━━━━━━━━━━━━━━━\u001b[0m\u001b[37m\u001b[0m \u001b[1m61s\u001b[0m 964ms/step - accuracy: 0.9215 - loss: 0.2756 - val_accuracy: 0.7788 - val_loss: 0.8434\n",
            "Epoch 27/100\n",
            "\u001b[1m64/64\u001b[0m \u001b[32m━━━━━━━━━━━━━━━━━━━━\u001b[0m\u001b[37m\u001b[0m \u001b[1m0s\u001b[0m 742ms/step - accuracy: 0.9165 - loss: 0.2915\n",
            "Epoch 27: val_loss did not improve from 0.70850\n",
            "\u001b[1m64/64\u001b[0m \u001b[32m━━━━━━━━━━━━━━━━━━━━\u001b[0m\u001b[37m\u001b[0m \u001b[1m49s\u001b[0m 764ms/step - accuracy: 0.9167 - loss: 0.2910 - val_accuracy: 0.7414 - val_loss: 0.8183\n",
            "Epoch 28/100\n",
            "\u001b[1m64/64\u001b[0m \u001b[32m━━━━━━━━━━━━━━━━━━━━\u001b[0m\u001b[37m\u001b[0m \u001b[1m0s\u001b[0m 731ms/step - accuracy: 0.9333 - loss: 0.2427\n",
            "Epoch 28: val_loss did not improve from 0.70850\n",
            "\u001b[1m64/64\u001b[0m \u001b[32m━━━━━━━━━━━━━━━━━━━━\u001b[0m\u001b[37m\u001b[0m \u001b[1m59s\u001b[0m 921ms/step - accuracy: 0.9334 - loss: 0.2426 - val_accuracy: 0.7832 - val_loss: 0.7928\n",
            "Epoch 29/100\n",
            "\u001b[1m64/64\u001b[0m \u001b[32m━━━━━━━━━━━━━━━━━━━━\u001b[0m\u001b[37m\u001b[0m \u001b[1m0s\u001b[0m 729ms/step - accuracy: 0.9220 - loss: 0.2491\n",
            "Epoch 29: val_loss did not improve from 0.70850\n",
            "\u001b[1m64/64\u001b[0m \u001b[32m━━━━━━━━━━━━━━━━━━━━\u001b[0m\u001b[37m\u001b[0m \u001b[1m61s\u001b[0m 948ms/step - accuracy: 0.9221 - loss: 0.2489 - val_accuracy: 0.7676 - val_loss: 0.8949\n",
            "Epoch 30/100\n",
            "\u001b[1m64/64\u001b[0m \u001b[32m━━━━━━━━━━━━━━━━━━━━\u001b[0m\u001b[37m\u001b[0m \u001b[1m0s\u001b[0m 729ms/step - accuracy: 0.9451 - loss: 0.2014\n",
            "Epoch 30: val_loss did not improve from 0.70850\n",
            "\u001b[1m64/64\u001b[0m \u001b[32m━━━━━━━━━━━━━━━━━━━━\u001b[0m\u001b[37m\u001b[0m \u001b[1m48s\u001b[0m 749ms/step - accuracy: 0.9452 - loss: 0.2014 - val_accuracy: 0.7802 - val_loss: 0.7651\n",
            "Epoch 31/100\n",
            "\u001b[1m64/64\u001b[0m \u001b[32m━━━━━━━━━━━━━━━━━━━━\u001b[0m\u001b[37m\u001b[0m \u001b[1m0s\u001b[0m 731ms/step - accuracy: 0.9362 - loss: 0.2131\n",
            "Epoch 31: val_loss did not improve from 0.70850\n",
            "\u001b[1m64/64\u001b[0m \u001b[32m━━━━━━━━━━━━━━━━━━━━\u001b[0m\u001b[37m\u001b[0m \u001b[1m61s\u001b[0m 955ms/step - accuracy: 0.9363 - loss: 0.2131 - val_accuracy: 0.7505 - val_loss: 0.9614\n",
            "Epoch 32/100\n",
            "\u001b[1m64/64\u001b[0m \u001b[32m━━━━━━━━━━━━━━━━━━━━\u001b[0m\u001b[37m\u001b[0m \u001b[1m0s\u001b[0m 735ms/step - accuracy: 0.9441 - loss: 0.1897\n",
            "Epoch 32: val_loss did not improve from 0.70850\n",
            "\u001b[1m64/64\u001b[0m \u001b[32m━━━━━━━━━━━━━━━━━━━━\u001b[0m\u001b[37m\u001b[0m \u001b[1m60s\u001b[0m 943ms/step - accuracy: 0.9441 - loss: 0.1897 - val_accuracy: 0.7734 - val_loss: 0.8058\n",
            "Epoch 33/100\n",
            "\u001b[1m64/64\u001b[0m \u001b[32m━━━━━━━━━━━━━━━━━━━━\u001b[0m\u001b[37m\u001b[0m \u001b[1m0s\u001b[0m 723ms/step - accuracy: 0.9376 - loss: 0.2343\n",
            "Epoch 33: val_loss did not improve from 0.70850\n",
            "\u001b[1m64/64\u001b[0m \u001b[32m━━━━━━━━━━━━━━━━━━━━\u001b[0m\u001b[37m\u001b[0m \u001b[1m68s\u001b[0m 1s/step - accuracy: 0.9377 - loss: 0.2342 - val_accuracy: 0.7500 - val_loss: 0.9719\n",
            "Epoch 34/100\n",
            "\u001b[1m64/64\u001b[0m \u001b[32m━━━━━━━━━━━━━━━━━━━━\u001b[0m\u001b[37m\u001b[0m \u001b[1m0s\u001b[0m 744ms/step - accuracy: 0.9335 - loss: 0.2657\n",
            "Epoch 34: val_loss did not improve from 0.70850\n",
            "\u001b[1m64/64\u001b[0m \u001b[32m━━━━━━━━━━━━━━━━━━━━\u001b[0m\u001b[37m\u001b[0m \u001b[1m61s\u001b[0m 961ms/step - accuracy: 0.9337 - loss: 0.2650 - val_accuracy: 0.7642 - val_loss: 0.9600\n",
            "Epoch 35/100\n",
            "\u001b[1m64/64\u001b[0m \u001b[32m━━━━━━━━━━━━━━━━━━━━\u001b[0m\u001b[37m\u001b[0m \u001b[1m0s\u001b[0m 734ms/step - accuracy: 0.9527 - loss: 0.1687\n",
            "Epoch 35: val_loss did not improve from 0.70850\n",
            "\u001b[1m64/64\u001b[0m \u001b[32m━━━━━━━━━━━━━━━━━━━━\u001b[0m\u001b[37m\u001b[0m \u001b[1m59s\u001b[0m 927ms/step - accuracy: 0.9526 - loss: 0.1689 - val_accuracy: 0.8013 - val_loss: 0.7542\n",
            "Epoch 36/100\n",
            "\u001b[1m64/64\u001b[0m \u001b[32m━━━━━━━━━━━━━━━━━━━━\u001b[0m\u001b[37m\u001b[0m \u001b[1m0s\u001b[0m 709ms/step - accuracy: 0.9491 - loss: 0.1922\n",
            "Epoch 36: val_loss did not improve from 0.70850\n",
            "\u001b[1m64/64\u001b[0m \u001b[32m━━━━━━━━━━━━━━━━━━━━\u001b[0m\u001b[37m\u001b[0m \u001b[1m48s\u001b[0m 743ms/step - accuracy: 0.9491 - loss: 0.1922 - val_accuracy: 0.7888 - val_loss: 0.7891\n",
            "Epoch 37/100\n",
            "\u001b[1m64/64\u001b[0m \u001b[32m━━━━━━━━━━━━━━━━━━━━\u001b[0m\u001b[37m\u001b[0m \u001b[1m0s\u001b[0m 712ms/step - accuracy: 0.9466 - loss: 0.1863\n",
            "Epoch 37: val_loss did not improve from 0.70850\n",
            "\u001b[1m64/64\u001b[0m \u001b[32m━━━━━━━━━━━━━━━━━━━━\u001b[0m\u001b[37m\u001b[0m \u001b[1m63s\u001b[0m 981ms/step - accuracy: 0.9466 - loss: 0.1862 - val_accuracy: 0.7529 - val_loss: 0.8997\n",
            "Epoch 38/100\n",
            "\u001b[1m64/64\u001b[0m \u001b[32m━━━━━━━━━━━━━━━━━━━━\u001b[0m\u001b[37m\u001b[0m \u001b[1m0s\u001b[0m 988ms/step - accuracy: 0.9440 - loss: 0.1921\n",
            "Epoch 38: val_loss did not improve from 0.70850\n",
            "\u001b[1m64/64\u001b[0m \u001b[32m━━━━━━━━━━━━━━━━━━━━\u001b[0m\u001b[37m\u001b[0m \u001b[1m81s\u001b[0m 1s/step - accuracy: 0.9440 - loss: 0.1921 - val_accuracy: 0.7783 - val_loss: 0.8213\n",
            "Epoch 39/100\n",
            "\u001b[1m64/64\u001b[0m \u001b[32m━━━━━━━━━━━━━━━━━━━━\u001b[0m\u001b[37m\u001b[0m \u001b[1m0s\u001b[0m 970ms/step - accuracy: 0.9497 - loss: 0.1751\n",
            "Epoch 39: val_loss did not improve from 0.70850\n",
            "\u001b[1m64/64\u001b[0m \u001b[32m━━━━━━━━━━━━━━━━━━━━\u001b[0m\u001b[37m\u001b[0m \u001b[1m64s\u001b[0m 1s/step - accuracy: 0.9498 - loss: 0.1750 - val_accuracy: 0.7198 - val_loss: 0.9289\n",
            "Epoch 40/100\n",
            "\u001b[1m 6/64\u001b[0m \u001b[32m━\u001b[0m\u001b[37m━━━━━━━━━━━━━━━━━━━\u001b[0m \u001b[1m39s\u001b[0m 677ms/step - accuracy: 0.9740 - loss: 0.1917\n",
            "Epoch 40: val_loss did not improve from 0.70850\n",
            "\u001b[1m64/64\u001b[0m \u001b[32m━━━━━━━━━━━━━━━━━━━━\u001b[0m\u001b[37m\u001b[0m \u001b[1m18s\u001b[0m 271ms/step - accuracy: 0.9645 - loss: 0.1601 - val_accuracy: 0.7793 - val_loss: 0.7955\n",
            "Epoch 41/100\n",
            "\u001b[1m64/64\u001b[0m \u001b[32m━━━━━━━━━━━━━━━━━━━━\u001b[0m\u001b[37m\u001b[0m \u001b[1m0s\u001b[0m 735ms/step - accuracy: 0.9527 - loss: 0.1474\n",
            "Epoch 41: val_loss did not improve from 0.70850\n",
            "\u001b[1m64/64\u001b[0m \u001b[32m━━━━━━━━━━━━━━━━━━━━\u001b[0m\u001b[37m\u001b[0m \u001b[1m78s\u001b[0m 944ms/step - accuracy: 0.9527 - loss: 0.1474 - val_accuracy: 0.7632 - val_loss: 0.9059\n",
            "Epoch 42/100\n",
            "\u001b[1m64/64\u001b[0m \u001b[32m━━━━━━━━━━━━━━━━━━━━\u001b[0m\u001b[37m\u001b[0m \u001b[1m0s\u001b[0m 744ms/step - accuracy: 0.9572 - loss: 0.1327\n",
            "Epoch 42: val_loss did not improve from 0.70850\n",
            "\u001b[1m64/64\u001b[0m \u001b[32m━━━━━━━━━━━━━━━━━━━━\u001b[0m\u001b[37m\u001b[0m \u001b[1m49s\u001b[0m 764ms/step - accuracy: 0.9571 - loss: 0.1333 - val_accuracy: 0.7371 - val_loss: 0.8331\n",
            "Epoch 43/100\n",
            "\u001b[1m64/64\u001b[0m \u001b[32m━━━━━━━━━━━━━━━━━━━━\u001b[0m\u001b[37m\u001b[0m \u001b[1m0s\u001b[0m 740ms/step - accuracy: 0.9543 - loss: 0.1671\n",
            "Epoch 43: val_loss did not improve from 0.70850\n",
            "\u001b[1m64/64\u001b[0m \u001b[32m━━━━━━━━━━━━━━━━━━━━\u001b[0m\u001b[37m\u001b[0m \u001b[1m60s\u001b[0m 937ms/step - accuracy: 0.9543 - loss: 0.1671 - val_accuracy: 0.7632 - val_loss: 0.8730\n",
            "Epoch 44/100\n",
            "\u001b[1m64/64\u001b[0m \u001b[32m━━━━━━━━━━━━━━━━━━━━\u001b[0m\u001b[37m\u001b[0m \u001b[1m0s\u001b[0m 724ms/step - accuracy: 0.9653 - loss: 0.1190\n",
            "Epoch 44: val_loss did not improve from 0.70850\n",
            "\u001b[1m64/64\u001b[0m \u001b[32m━━━━━━━━━━━━━━━━━━━━\u001b[0m\u001b[37m\u001b[0m \u001b[1m60s\u001b[0m 927ms/step - accuracy: 0.9653 - loss: 0.1190 - val_accuracy: 0.7881 - val_loss: 0.8449\n",
            "Epoch 45/100\n",
            "\u001b[1m64/64\u001b[0m \u001b[32m━━━━━━━━━━━━━━━━━━━━\u001b[0m\u001b[37m\u001b[0m \u001b[1m0s\u001b[0m 736ms/step - accuracy: 0.9593 - loss: 0.1350\n",
            "Epoch 45: val_loss did not improve from 0.70850\n",
            "\u001b[1m64/64\u001b[0m \u001b[32m━━━━━━━━━━━━━━━━━━━━\u001b[0m\u001b[37m\u001b[0m \u001b[1m48s\u001b[0m 756ms/step - accuracy: 0.9593 - loss: 0.1352 - val_accuracy: 0.7371 - val_loss: 0.9798\n",
            "Epoch 46/100\n",
            "\u001b[1m64/64\u001b[0m \u001b[32m━━━━━━━━━━━━━━━━━━━━\u001b[0m\u001b[37m\u001b[0m \u001b[1m0s\u001b[0m 729ms/step - accuracy: 0.9472 - loss: 0.2156\n",
            "Epoch 46: val_loss did not improve from 0.70850\n",
            "\u001b[1m64/64\u001b[0m \u001b[32m━━━━━━━━━━━━━━━━━━━━\u001b[0m\u001b[37m\u001b[0m \u001b[1m60s\u001b[0m 939ms/step - accuracy: 0.9473 - loss: 0.2154 - val_accuracy: 0.7720 - val_loss: 0.8362\n",
            "Epoch 47/100\n",
            "\u001b[1m64/64\u001b[0m \u001b[32m━━━━━━━━━━━━━━━━━━━━\u001b[0m\u001b[37m\u001b[0m \u001b[1m0s\u001b[0m 740ms/step - accuracy: 0.9592 - loss: 0.1383\n",
            "Epoch 47: val_loss did not improve from 0.70850\n",
            "\u001b[1m64/64\u001b[0m \u001b[32m━━━━━━━━━━━━━━━━━━━━\u001b[0m\u001b[37m\u001b[0m \u001b[1m60s\u001b[0m 947ms/step - accuracy: 0.9592 - loss: 0.1383 - val_accuracy: 0.7935 - val_loss: 0.7772\n",
            "Epoch 48/100\n",
            "\u001b[1m64/64\u001b[0m \u001b[32m━━━━━━━━━━━━━━━━━━━━\u001b[0m\u001b[37m\u001b[0m \u001b[1m0s\u001b[0m 730ms/step - accuracy: 0.9667 - loss: 0.1179\n",
            "Epoch 48: val_loss improved from 0.70850 to 0.63443, saving model to /content/drive/MyDrive/Projects/ArSLR/checkpoint/best_model.keras\n",
            "\u001b[1m64/64\u001b[0m \u001b[32m━━━━━━━━━━━━━━━━━━━━\u001b[0m\u001b[37m\u001b[0m \u001b[1m48s\u001b[0m 759ms/step - accuracy: 0.9666 - loss: 0.1181 - val_accuracy: 0.8276 - val_loss: 0.6344\n",
            "Epoch 49/100\n",
            "\u001b[1m64/64\u001b[0m \u001b[32m━━━━━━━━━━━━━━━━━━━━\u001b[0m\u001b[37m\u001b[0m \u001b[1m0s\u001b[0m 732ms/step - accuracy: 0.9436 - loss: 0.2403\n",
            "Epoch 49: val_loss did not improve from 0.63443\n",
            "\u001b[1m64/64\u001b[0m \u001b[32m━━━━━━━━━━━━━━━━━━━━\u001b[0m\u001b[37m\u001b[0m \u001b[1m58s\u001b[0m 909ms/step - accuracy: 0.9437 - loss: 0.2390 - val_accuracy: 0.8008 - val_loss: 0.8066\n",
            "Epoch 50/100\n",
            "\u001b[1m64/64\u001b[0m \u001b[32m━━━━━━━━━━━━━━━━━━━━\u001b[0m\u001b[37m\u001b[0m \u001b[1m0s\u001b[0m 731ms/step - accuracy: 0.9460 - loss: 0.1722\n",
            "Epoch 50: val_loss did not improve from 0.63443\n",
            "\u001b[1m64/64\u001b[0m \u001b[32m━━━━━━━━━━━━━━━━━━━━\u001b[0m\u001b[37m\u001b[0m \u001b[1m61s\u001b[0m 946ms/step - accuracy: 0.9461 - loss: 0.1720 - val_accuracy: 0.7817 - val_loss: 0.8516\n",
            "Epoch 51/100\n",
            "\u001b[1m64/64\u001b[0m \u001b[32m━━━━━━━━━━━━━━━━━━━━\u001b[0m\u001b[37m\u001b[0m \u001b[1m0s\u001b[0m 735ms/step - accuracy: 0.9693 - loss: 0.1111\n",
            "Epoch 51: val_loss did not improve from 0.63443\n",
            "\u001b[1m64/64\u001b[0m \u001b[32m━━━━━━━━━━━━━━━━━━━━\u001b[0m\u001b[37m\u001b[0m \u001b[1m48s\u001b[0m 755ms/step - accuracy: 0.9692 - loss: 0.1115 - val_accuracy: 0.8147 - val_loss: 0.6767\n",
            "Epoch 52/100\n",
            "\u001b[1m64/64\u001b[0m \u001b[32m━━━━━━━━━━━━━━━━━━━━\u001b[0m\u001b[37m\u001b[0m \u001b[1m0s\u001b[0m 744ms/step - accuracy: 0.9583 - loss: 0.1426\n",
            "Epoch 52: val_loss did not improve from 0.63443\n",
            "\u001b[1m64/64\u001b[0m \u001b[32m━━━━━━━━━━━━━━━━━━━━\u001b[0m\u001b[37m\u001b[0m \u001b[1m61s\u001b[0m 961ms/step - accuracy: 0.9582 - loss: 0.1427 - val_accuracy: 0.7935 - val_loss: 0.7775\n",
            "Epoch 53/100\n",
            "\u001b[1m64/64\u001b[0m \u001b[32m━━━━━━━━━━━━━━━━━━━━\u001b[0m\u001b[37m\u001b[0m \u001b[1m0s\u001b[0m 735ms/step - accuracy: 0.9575 - loss: 0.1433\n",
            "Epoch 53: val_loss did not improve from 0.63443\n",
            "\u001b[1m64/64\u001b[0m \u001b[32m━━━━━━━━━━━━━━━━━━━━\u001b[0m\u001b[37m\u001b[0m \u001b[1m60s\u001b[0m 935ms/step - accuracy: 0.9575 - loss: 0.1433 - val_accuracy: 0.7920 - val_loss: 0.8594\n",
            "Epoch 54/100\n",
            "\u001b[1m64/64\u001b[0m \u001b[32m━━━━━━━━━━━━━━━━━━━━\u001b[0m\u001b[37m\u001b[0m \u001b[1m0s\u001b[0m 714ms/step - accuracy: 0.9510 - loss: 0.1435\n",
            "Epoch 54: val_loss did not improve from 0.63443\n",
            "\u001b[1m64/64\u001b[0m \u001b[32m━━━━━━━━━━━━━━━━━━━━\u001b[0m\u001b[37m\u001b[0m \u001b[1m69s\u001b[0m 1s/step - accuracy: 0.9511 - loss: 0.1434 - val_accuracy: 0.8017 - val_loss: 0.7116\n",
            "Epoch 55/100\n",
            "\u001b[1m64/64\u001b[0m \u001b[32m━━━━━━━━━━━━━━━━━━━━\u001b[0m\u001b[37m\u001b[0m \u001b[1m0s\u001b[0m 728ms/step - accuracy: 0.9499 - loss: 0.1784\n",
            "Epoch 55: val_loss did not improve from 0.63443\n",
            "\u001b[1m64/64\u001b[0m \u001b[32m━━━━━━━━━━━━━━━━━━━━\u001b[0m\u001b[37m\u001b[0m \u001b[1m60s\u001b[0m 937ms/step - accuracy: 0.9500 - loss: 0.1783 - val_accuracy: 0.7935 - val_loss: 0.7444\n",
            "Epoch 56/100\n",
            "\u001b[1m64/64\u001b[0m \u001b[32m━━━━━━━━━━━━━━━━━━━━\u001b[0m\u001b[37m\u001b[0m \u001b[1m0s\u001b[0m 732ms/step - accuracy: 0.9589 - loss: 0.1228\n",
            "Epoch 56: val_loss did not improve from 0.63443\n",
            "\u001b[1m64/64\u001b[0m \u001b[32m━━━━━━━━━━━━━━━━━━━━\u001b[0m\u001b[37m\u001b[0m \u001b[1m58s\u001b[0m 914ms/step - accuracy: 0.9589 - loss: 0.1230 - val_accuracy: 0.8091 - val_loss: 0.7310\n",
            "Epoch 57/100\n",
            "\u001b[1m64/64\u001b[0m \u001b[32m━━━━━━━━━━━━━━━━━━━━\u001b[0m\u001b[37m\u001b[0m \u001b[1m0s\u001b[0m 716ms/step - accuracy: 0.9560 - loss: 0.1635\n",
            "Epoch 57: val_loss did not improve from 0.63443\n",
            "\u001b[1m64/64\u001b[0m \u001b[32m━━━━━━━━━━━━━━━━━━━━\u001b[0m\u001b[37m\u001b[0m \u001b[1m71s\u001b[0m 1s/step - accuracy: 0.9561 - loss: 0.1631 - val_accuracy: 0.7629 - val_loss: 0.9326\n",
            "Epoch 58/100\n",
            "\u001b[1m64/64\u001b[0m \u001b[32m━━━━━━━━━━━━━━━━━━━━\u001b[0m\u001b[37m\u001b[0m \u001b[1m0s\u001b[0m 742ms/step - accuracy: 0.9485 - loss: 0.1768\n",
            "Epoch 58: val_loss did not improve from 0.63443\n",
            "\u001b[1m64/64\u001b[0m \u001b[32m━━━━━━━━━━━━━━━━━━━━\u001b[0m\u001b[37m\u001b[0m \u001b[1m61s\u001b[0m 962ms/step - accuracy: 0.9486 - loss: 0.1764 - val_accuracy: 0.8013 - val_loss: 0.7645\n",
            "Epoch 59/100\n",
            "\u001b[1m64/64\u001b[0m \u001b[32m━━━━━━━━━━━━━━━━━━━━\u001b[0m\u001b[37m\u001b[0m \u001b[1m0s\u001b[0m 744ms/step - accuracy: 0.9482 - loss: 0.1804\n",
            "Epoch 59: val_loss did not improve from 0.63443\n",
            "\u001b[1m64/64\u001b[0m \u001b[32m━━━━━━━━━━━━━━━━━━━━\u001b[0m\u001b[37m\u001b[0m \u001b[1m61s\u001b[0m 953ms/step - accuracy: 0.9483 - loss: 0.1802 - val_accuracy: 0.7979 - val_loss: 0.7413\n",
            "Epoch 60/100\n",
            "\u001b[1m 6/64\u001b[0m \u001b[32m━\u001b[0m\u001b[37m━━━━━━━━━━━━━━━━━━━\u001b[0m \u001b[1m35s\u001b[0m 620ms/step - accuracy: 0.9622 - loss: 0.1060\n",
            "Epoch 60: val_loss did not improve from 0.63443\n",
            "\u001b[1m64/64\u001b[0m \u001b[32m━━━━━━━━━━━━━━━━━━━━\u001b[0m\u001b[37m\u001b[0m \u001b[1m5s\u001b[0m 69ms/step - accuracy: 0.9634 - loss: 0.1102 - val_accuracy: 0.8362 - val_loss: 0.7269\n",
            "Epoch 61/100\n",
            "\u001b[1m64/64\u001b[0m \u001b[32m━━━━━━━━━━━━━━━━━━━━\u001b[0m\u001b[37m\u001b[0m \u001b[1m0s\u001b[0m 741ms/step - accuracy: 0.9579 - loss: 0.1258\n",
            "Epoch 61: val_loss did not improve from 0.63443\n",
            "\u001b[1m64/64\u001b[0m \u001b[32m━━━━━━━━━━━━━━━━━━━━\u001b[0m\u001b[37m\u001b[0m \u001b[1m61s\u001b[0m 962ms/step - accuracy: 0.9580 - loss: 0.1259 - val_accuracy: 0.8345 - val_loss: 0.6971\n",
            "Epoch 62/100\n",
            "\u001b[1m64/64\u001b[0m \u001b[32m━━━━━━━━━━━━━━━━━━━━\u001b[0m\u001b[37m\u001b[0m \u001b[1m0s\u001b[0m 737ms/step - accuracy: 0.9569 - loss: 0.1497\n",
            "Epoch 62: val_loss did not improve from 0.63443\n",
            "\u001b[1m64/64\u001b[0m \u001b[32m━━━━━━━━━━━━━━━━━━━━\u001b[0m\u001b[37m\u001b[0m \u001b[1m60s\u001b[0m 950ms/step - accuracy: 0.9570 - loss: 0.1493 - val_accuracy: 0.8042 - val_loss: 0.7916\n",
            "Epoch 63/100\n",
            "\u001b[1m64/64\u001b[0m \u001b[32m━━━━━━━━━━━━━━━━━━━━\u001b[0m\u001b[37m\u001b[0m \u001b[1m0s\u001b[0m 715ms/step - accuracy: 0.9667 - loss: 0.1313\n",
            "Epoch 63: val_loss did not improve from 0.63443\n",
            "\u001b[1m64/64\u001b[0m \u001b[32m━━━━━━━━━━━━━━━━━━━━\u001b[0m\u001b[37m\u001b[0m \u001b[1m48s\u001b[0m 751ms/step - accuracy: 0.9667 - loss: 0.1310 - val_accuracy: 0.8060 - val_loss: 0.7487\n",
            "Epoch 64/100\n",
            "\u001b[1m64/64\u001b[0m \u001b[32m━━━━━━━━━━━━━━━━━━━━\u001b[0m\u001b[37m\u001b[0m \u001b[1m0s\u001b[0m 710ms/step - accuracy: 0.9596 - loss: 0.1405\n",
            "Epoch 64: val_loss did not improve from 0.63443\n",
            "\u001b[1m64/64\u001b[0m \u001b[32m━━━━━━━━━━━━━━━━━━━━\u001b[0m\u001b[37m\u001b[0m \u001b[1m59s\u001b[0m 911ms/step - accuracy: 0.9596 - loss: 0.1404 - val_accuracy: 0.7871 - val_loss: 0.8360\n",
            "Epoch 65/100\n",
            "\u001b[1m64/64\u001b[0m \u001b[32m━━━━━━━━━━━━━━━━━━━━\u001b[0m\u001b[37m\u001b[0m \u001b[1m0s\u001b[0m 739ms/step - accuracy: 0.9607 - loss: 0.1243\n",
            "Epoch 65: val_loss improved from 0.63443 to 0.61273, saving model to /content/drive/MyDrive/Projects/ArSLR/checkpoint/best_model.keras\n",
            "\u001b[1m64/64\u001b[0m \u001b[32m━━━━━━━━━━━━━━━━━━━━\u001b[0m\u001b[37m\u001b[0m \u001b[1m62s\u001b[0m 968ms/step - accuracy: 0.9607 - loss: 0.1242 - val_accuracy: 0.8364 - val_loss: 0.6127\n",
            "Epoch 66/100\n",
            "\u001b[1m64/64\u001b[0m \u001b[32m━━━━━━━━━━━━━━━━━━━━\u001b[0m\u001b[37m\u001b[0m \u001b[1m0s\u001b[0m 736ms/step - accuracy: 0.9548 - loss: 0.1403\n",
            "Epoch 66: val_loss did not improve from 0.61273\n",
            "\u001b[1m64/64\u001b[0m \u001b[32m━━━━━━━━━━━━━━━━━━━━\u001b[0m\u001b[37m\u001b[0m \u001b[1m48s\u001b[0m 756ms/step - accuracy: 0.9548 - loss: 0.1402 - val_accuracy: 0.8233 - val_loss: 0.6670\n",
            "Epoch 67/100\n",
            "\u001b[1m64/64\u001b[0m \u001b[32m━━━━━━━━━━━━━━━━━━━━\u001b[0m\u001b[37m\u001b[0m \u001b[1m0s\u001b[0m 734ms/step - accuracy: 0.9634 - loss: 0.1317\n",
            "Epoch 67: val_loss did not improve from 0.61273\n",
            "\u001b[1m64/64\u001b[0m \u001b[32m━━━━━━━━━━━━━━━━━━━━\u001b[0m\u001b[37m\u001b[0m \u001b[1m60s\u001b[0m 944ms/step - accuracy: 0.9634 - loss: 0.1316 - val_accuracy: 0.8174 - val_loss: 0.7398\n",
            "Epoch 68/100\n",
            "\u001b[1m64/64\u001b[0m \u001b[32m━━━━━━━━━━━━━━━━━━━━\u001b[0m\u001b[37m\u001b[0m \u001b[1m0s\u001b[0m 741ms/step - accuracy: 0.9688 - loss: 0.1155\n",
            "Epoch 68: val_loss did not improve from 0.61273\n",
            "\u001b[1m64/64\u001b[0m \u001b[32m━━━━━━━━━━━━━━━━━━━━\u001b[0m\u001b[37m\u001b[0m \u001b[1m60s\u001b[0m 940ms/step - accuracy: 0.9688 - loss: 0.1153 - val_accuracy: 0.7979 - val_loss: 0.7871\n",
            "Epoch 69/100\n",
            "\u001b[1m64/64\u001b[0m \u001b[32m━━━━━━━━━━━━━━━━━━━━\u001b[0m\u001b[37m\u001b[0m \u001b[1m0s\u001b[0m 720ms/step - accuracy: 0.9652 - loss: 0.1335\n",
            "Epoch 69: val_loss did not improve from 0.61273\n",
            "\u001b[1m64/64\u001b[0m \u001b[32m━━━━━━━━━━━━━━━━━━━━\u001b[0m\u001b[37m\u001b[0m \u001b[1m69s\u001b[0m 1s/step - accuracy: 0.9652 - loss: 0.1332 - val_accuracy: 0.7759 - val_loss: 1.0374\n",
            "Epoch 70/100\n",
            "\u001b[1m64/64\u001b[0m \u001b[32m━━━━━━━━━━━━━━━━━━━━\u001b[0m\u001b[37m\u001b[0m \u001b[1m0s\u001b[0m 735ms/step - accuracy: 0.9626 - loss: 0.1118\n",
            "Epoch 70: val_loss did not improve from 0.61273\n",
            "\u001b[1m64/64\u001b[0m \u001b[32m━━━━━━━━━━━━━━━━━━━━\u001b[0m\u001b[37m\u001b[0m \u001b[1m61s\u001b[0m 953ms/step - accuracy: 0.9626 - loss: 0.1120 - val_accuracy: 0.7988 - val_loss: 0.7818\n",
            "Epoch 71/100\n",
            "\u001b[1m64/64\u001b[0m \u001b[32m━━━━━━━━━━━━━━━━━━━━\u001b[0m\u001b[37m\u001b[0m \u001b[1m0s\u001b[0m 730ms/step - accuracy: 0.9586 - loss: 0.1379\n",
            "Epoch 71: val_loss did not improve from 0.61273\n",
            "\u001b[1m64/64\u001b[0m \u001b[32m━━━━━━━━━━━━━━━━━━━━\u001b[0m\u001b[37m\u001b[0m \u001b[1m60s\u001b[0m 939ms/step - accuracy: 0.9587 - loss: 0.1376 - val_accuracy: 0.8242 - val_loss: 0.8805\n",
            "Epoch 72/100\n",
            "\u001b[1m64/64\u001b[0m \u001b[32m━━━━━━━━━━━━━━━━━━━━\u001b[0m\u001b[37m\u001b[0m \u001b[1m0s\u001b[0m 719ms/step - accuracy: 0.9754 - loss: 0.0885\n",
            "Epoch 72: val_loss did not improve from 0.61273\n",
            "\u001b[1m64/64\u001b[0m \u001b[32m━━━━━━━━━━━━━━━━━━━━\u001b[0m\u001b[37m\u001b[0m \u001b[1m68s\u001b[0m 1s/step - accuracy: 0.9753 - loss: 0.0887 - val_accuracy: 0.7845 - val_loss: 0.9407\n",
            "Epoch 73/100\n",
            "\u001b[1m64/64\u001b[0m \u001b[32m━━━━━━━━━━━━━━━━━━━━\u001b[0m\u001b[37m\u001b[0m \u001b[1m0s\u001b[0m 737ms/step - accuracy: 0.9783 - loss: 0.0828\n",
            "Epoch 73: val_loss did not improve from 0.61273\n",
            "\u001b[1m64/64\u001b[0m \u001b[32m━━━━━━━━━━━━━━━━━━━━\u001b[0m\u001b[37m\u001b[0m \u001b[1m61s\u001b[0m 963ms/step - accuracy: 0.9783 - loss: 0.0830 - val_accuracy: 0.7856 - val_loss: 0.9389\n",
            "Epoch 74/100\n",
            "\u001b[1m64/64\u001b[0m \u001b[32m━━━━━━━━━━━━━━━━━━━━\u001b[0m\u001b[37m\u001b[0m \u001b[1m0s\u001b[0m 729ms/step - accuracy: 0.9716 - loss: 0.1152\n",
            "Epoch 74: val_loss did not improve from 0.61273\n",
            "\u001b[1m64/64\u001b[0m \u001b[32m━━━━━━━━━━━━━━━━━━━━\u001b[0m\u001b[37m\u001b[0m \u001b[1m60s\u001b[0m 944ms/step - accuracy: 0.9715 - loss: 0.1151 - val_accuracy: 0.7910 - val_loss: 1.0461\n",
            "Epoch 75/100\n",
            "\u001b[1m64/64\u001b[0m \u001b[32m━━━━━━━━━━━━━━━━━━━━\u001b[0m\u001b[37m\u001b[0m \u001b[1m0s\u001b[0m 712ms/step - accuracy: 0.9722 - loss: 0.0954\n",
            "Epoch 75: val_loss did not improve from 0.61273\n",
            "\u001b[1m64/64\u001b[0m \u001b[32m━━━━━━━━━━━━━━━━━━━━\u001b[0m\u001b[37m\u001b[0m \u001b[1m48s\u001b[0m 748ms/step - accuracy: 0.9721 - loss: 0.0956 - val_accuracy: 0.7888 - val_loss: 0.9816\n",
            "Epoch 76/100\n",
            "\u001b[1m64/64\u001b[0m \u001b[32m━━━━━━━━━━━━━━━━━━━━\u001b[0m\u001b[37m\u001b[0m \u001b[1m0s\u001b[0m 707ms/step - accuracy: 0.9548 - loss: 0.1667\n",
            "Epoch 76: val_loss did not improve from 0.61273\n",
            "\u001b[1m64/64\u001b[0m \u001b[32m━━━━━━━━━━━━━━━━━━━━\u001b[0m\u001b[37m\u001b[0m \u001b[1m58s\u001b[0m 905ms/step - accuracy: 0.9550 - loss: 0.1663 - val_accuracy: 0.8032 - val_loss: 0.7909\n",
            "Epoch 77/100\n",
            "\u001b[1m64/64\u001b[0m \u001b[32m━━━━━━━━━━━━━━━━━━━━\u001b[0m\u001b[37m\u001b[0m \u001b[1m0s\u001b[0m 737ms/step - accuracy: 0.9695 - loss: 0.0872\n",
            "Epoch 77: val_loss did not improve from 0.61273\n",
            "\u001b[1m64/64\u001b[0m \u001b[32m━━━━━━━━━━━━━━━━━━━━\u001b[0m\u001b[37m\u001b[0m \u001b[1m61s\u001b[0m 954ms/step - accuracy: 0.9696 - loss: 0.0872 - val_accuracy: 0.8066 - val_loss: 0.9602\n",
            "Epoch 78/100\n",
            "\u001b[1m64/64\u001b[0m \u001b[32m━━━━━━━━━━━━━━━━━━━━\u001b[0m\u001b[37m\u001b[0m \u001b[1m0s\u001b[0m 740ms/step - accuracy: 0.9636 - loss: 0.1299\n",
            "Epoch 78: val_loss did not improve from 0.61273\n",
            "\u001b[1m64/64\u001b[0m \u001b[32m━━━━━━━━━━━━━━━━━━━━\u001b[0m\u001b[37m\u001b[0m \u001b[1m49s\u001b[0m 761ms/step - accuracy: 0.9634 - loss: 0.1302 - val_accuracy: 0.8276 - val_loss: 0.6783\n",
            "Epoch 79/100\n",
            "\u001b[1m64/64\u001b[0m \u001b[32m━━━━━━━━━━━━━━━━━━━━\u001b[0m\u001b[37m\u001b[0m \u001b[1m0s\u001b[0m 740ms/step - accuracy: 0.9697 - loss: 0.1087\n",
            "Epoch 79: val_loss did not improve from 0.61273\n",
            "\u001b[1m64/64\u001b[0m \u001b[32m━━━━━━━━━━━━━━━━━━━━\u001b[0m\u001b[37m\u001b[0m \u001b[1m61s\u001b[0m 961ms/step - accuracy: 0.9696 - loss: 0.1088 - val_accuracy: 0.7964 - val_loss: 0.8511\n",
            "Epoch 80/100\n",
            "\u001b[1m 6/64\u001b[0m \u001b[32m━\u001b[0m\u001b[37m━━━━━━━━━━━━━━━━━━━\u001b[0m \u001b[1m35s\u001b[0m 611ms/step - accuracy: 0.9539 - loss: 0.1180\n",
            "Epoch 80: val_loss did not improve from 0.61273\n",
            "\u001b[1m64/64\u001b[0m \u001b[32m━━━━━━━━━━━━━━━━━━━━\u001b[0m\u001b[37m\u001b[0m \u001b[1m17s\u001b[0m 266ms/step - accuracy: 0.9579 - loss: 0.1106 - val_accuracy: 0.8057 - val_loss: 0.7823\n",
            "Epoch 81/100\n",
            "\u001b[1m64/64\u001b[0m \u001b[32m━━━━━━━━━━━━━━━━━━━━\u001b[0m\u001b[37m\u001b[0m \u001b[1m0s\u001b[0m 736ms/step - accuracy: 0.9548 - loss: 0.1517\n",
            "Epoch 81: val_loss did not improve from 0.61273\n",
            "\u001b[1m64/64\u001b[0m \u001b[32m━━━━━━━━━━━━━━━━━━━━\u001b[0m\u001b[37m\u001b[0m \u001b[1m79s\u001b[0m 756ms/step - accuracy: 0.9547 - loss: 0.1515 - val_accuracy: 0.7328 - val_loss: 1.0140\n",
            "Epoch 82/100\n",
            "\u001b[1m64/64\u001b[0m \u001b[32m━━━━━━━━━━━━━━━━━━━━\u001b[0m\u001b[37m\u001b[0m \u001b[1m0s\u001b[0m 742ms/step - accuracy: 0.9749 - loss: 0.0947\n",
            "Epoch 82: val_loss did not improve from 0.61273\n",
            "\u001b[1m64/64\u001b[0m \u001b[32m━━━━━━━━━━━━━━━━━━━━\u001b[0m\u001b[37m\u001b[0m \u001b[1m61s\u001b[0m 962ms/step - accuracy: 0.9748 - loss: 0.0949 - val_accuracy: 0.7886 - val_loss: 0.9129\n",
            "Epoch 83/100\n",
            "\u001b[1m64/64\u001b[0m \u001b[32m━━━━━━━━━━━━━━━━━━━━\u001b[0m\u001b[37m\u001b[0m \u001b[1m0s\u001b[0m 737ms/step - accuracy: 0.9807 - loss: 0.0672\n",
            "Epoch 83: val_loss did not improve from 0.61273\n",
            "\u001b[1m64/64\u001b[0m \u001b[32m━━━━━━━━━━━━━━━━━━━━\u001b[0m\u001b[37m\u001b[0m \u001b[1m61s\u001b[0m 962ms/step - accuracy: 0.9807 - loss: 0.0672 - val_accuracy: 0.8042 - val_loss: 0.8145\n",
            "Epoch 84/100\n",
            "\u001b[1m64/64\u001b[0m \u001b[32m━━━━━━━━━━━━━━━━━━━━\u001b[0m\u001b[37m\u001b[0m \u001b[1m0s\u001b[0m 735ms/step - accuracy: 0.9720 - loss: 0.0877\n",
            "Epoch 84: val_loss did not improve from 0.61273\n",
            "\u001b[1m64/64\u001b[0m \u001b[32m━━━━━━━━━━━━━━━━━━━━\u001b[0m\u001b[37m\u001b[0m \u001b[1m48s\u001b[0m 755ms/step - accuracy: 0.9720 - loss: 0.0878 - val_accuracy: 0.7371 - val_loss: 1.0601\n",
            "Epoch 85/100\n",
            "\u001b[1m64/64\u001b[0m \u001b[32m━━━━━━━━━━━━━━━━━━━━\u001b[0m\u001b[37m\u001b[0m \u001b[1m0s\u001b[0m 731ms/step - accuracy: 0.9696 - loss: 0.0941\n",
            "Epoch 85: val_loss did not improve from 0.61273\n",
            "\u001b[1m64/64\u001b[0m \u001b[32m━━━━━━━━━━━━━━━━━━━━\u001b[0m\u001b[37m\u001b[0m \u001b[1m59s\u001b[0m 929ms/step - accuracy: 0.9696 - loss: 0.0942 - val_accuracy: 0.8242 - val_loss: 0.8255\n",
            "Epoch 86/100\n",
            "\u001b[1m64/64\u001b[0m \u001b[32m━━━━━━━━━━━━━━━━━━━━\u001b[0m\u001b[37m\u001b[0m \u001b[1m0s\u001b[0m 713ms/step - accuracy: 0.9688 - loss: 0.1100\n",
            "Epoch 86: val_loss did not improve from 0.61273\n",
            "\u001b[1m64/64\u001b[0m \u001b[32m━━━━━━━━━━━━━━━━━━━━\u001b[0m\u001b[37m\u001b[0m \u001b[1m59s\u001b[0m 915ms/step - accuracy: 0.9688 - loss: 0.1099 - val_accuracy: 0.8257 - val_loss: 0.8052\n",
            "Epoch 87/100\n",
            "\u001b[1m64/64\u001b[0m \u001b[32m━━━━━━━━━━━━━━━━━━━━\u001b[0m\u001b[37m\u001b[0m \u001b[1m0s\u001b[0m 743ms/step - accuracy: 0.9748 - loss: 0.0828\n",
            "Epoch 87: val_loss did not improve from 0.61273\n",
            "\u001b[1m64/64\u001b[0m \u001b[32m━━━━━━━━━━━━━━━━━━━━\u001b[0m\u001b[37m\u001b[0m \u001b[1m49s\u001b[0m 764ms/step - accuracy: 0.9747 - loss: 0.0830 - val_accuracy: 0.8190 - val_loss: 0.7485\n",
            "Epoch 88/100\n",
            "\u001b[1m64/64\u001b[0m \u001b[32m━━━━━━━━━━━━━━━━━━━━\u001b[0m\u001b[37m\u001b[0m \u001b[1m0s\u001b[0m 744ms/step - accuracy: 0.9722 - loss: 0.0830\n",
            "Epoch 88: val_loss did not improve from 0.61273\n",
            "\u001b[1m64/64\u001b[0m \u001b[32m━━━━━━━━━━━━━━━━━━━━\u001b[0m\u001b[37m\u001b[0m \u001b[1m62s\u001b[0m 966ms/step - accuracy: 0.9723 - loss: 0.0829 - val_accuracy: 0.8232 - val_loss: 0.8729\n",
            "Epoch 89/100\n",
            "\u001b[1m64/64\u001b[0m \u001b[32m━━━━━━━━━━━━━━━━━━━━\u001b[0m\u001b[37m\u001b[0m \u001b[1m0s\u001b[0m 750ms/step - accuracy: 0.9729 - loss: 0.1069\n",
            "Epoch 89: val_loss did not improve from 0.61273\n",
            "\u001b[1m64/64\u001b[0m \u001b[32m━━━━━━━━━━━━━━━━━━━━\u001b[0m\u001b[37m\u001b[0m \u001b[1m62s\u001b[0m 967ms/step - accuracy: 0.9729 - loss: 0.1071 - val_accuracy: 0.8115 - val_loss: 0.8569\n",
            "Epoch 90/100\n",
            "\u001b[1m64/64\u001b[0m \u001b[32m━━━━━━━━━━━━━━━━━━━━\u001b[0m\u001b[37m\u001b[0m \u001b[1m0s\u001b[0m 742ms/step - accuracy: 0.9668 - loss: 0.0964\n",
            "Epoch 90: val_loss did not improve from 0.61273\n",
            "\u001b[1m64/64\u001b[0m \u001b[32m━━━━━━━━━━━━━━━━━━━━\u001b[0m\u001b[37m\u001b[0m \u001b[1m49s\u001b[0m 761ms/step - accuracy: 0.9668 - loss: 0.0965 - val_accuracy: 0.7931 - val_loss: 1.0879\n",
            "Epoch 91/100\n",
            "\u001b[1m64/64\u001b[0m \u001b[32m━━━━━━━━━━━━━━━━━━━━\u001b[0m\u001b[37m\u001b[0m \u001b[1m0s\u001b[0m 735ms/step - accuracy: 0.9783 - loss: 0.0907\n",
            "Epoch 91: val_loss did not improve from 0.61273\n",
            "\u001b[1m64/64\u001b[0m \u001b[32m━━━━━━━━━━━━━━━━━━━━\u001b[0m\u001b[37m\u001b[0m \u001b[1m59s\u001b[0m 932ms/step - accuracy: 0.9783 - loss: 0.0907 - val_accuracy: 0.7642 - val_loss: 1.0079\n",
            "Epoch 92/100\n",
            "\u001b[1m64/64\u001b[0m \u001b[32m━━━━━━━━━━━━━━━━━━━━\u001b[0m\u001b[37m\u001b[0m \u001b[1m0s\u001b[0m 711ms/step - accuracy: 0.9686 - loss: 0.1003\n",
            "Epoch 92: val_loss did not improve from 0.61273\n",
            "\u001b[1m64/64\u001b[0m \u001b[32m━━━━━━━━━━━━━━━━━━━━\u001b[0m\u001b[37m\u001b[0m \u001b[1m58s\u001b[0m 904ms/step - accuracy: 0.9687 - loss: 0.1003 - val_accuracy: 0.8213 - val_loss: 0.8747\n",
            "Epoch 93/100\n",
            "\u001b[1m64/64\u001b[0m \u001b[32m━━━━━━━━━━━━━━━━━━━━\u001b[0m\u001b[37m\u001b[0m \u001b[1m0s\u001b[0m 735ms/step - accuracy: 0.9729 - loss: 0.0855\n",
            "Epoch 93: val_loss did not improve from 0.61273\n",
            "\u001b[1m64/64\u001b[0m \u001b[32m━━━━━━━━━━━━━━━━━━━━\u001b[0m\u001b[37m\u001b[0m \u001b[1m48s\u001b[0m 755ms/step - accuracy: 0.9729 - loss: 0.0855 - val_accuracy: 0.8276 - val_loss: 0.8587\n",
            "Epoch 94/100\n",
            "\u001b[1m64/64\u001b[0m \u001b[32m━━━━━━━━━━━━━━━━━━━━\u001b[0m\u001b[37m\u001b[0m \u001b[1m0s\u001b[0m 738ms/step - accuracy: 0.9750 - loss: 0.0970\n",
            "Epoch 94: val_loss did not improve from 0.61273\n",
            "\u001b[1m64/64\u001b[0m \u001b[32m━━━━━━━━━━━━━━━━━━━━\u001b[0m\u001b[37m\u001b[0m \u001b[1m61s\u001b[0m 956ms/step - accuracy: 0.9750 - loss: 0.0969 - val_accuracy: 0.8208 - val_loss: 0.9222\n",
            "Epoch 95/100\n",
            "\u001b[1m64/64\u001b[0m \u001b[32m━━━━━━━━━━━━━━━━━━━━\u001b[0m\u001b[37m\u001b[0m \u001b[1m0s\u001b[0m 734ms/step - accuracy: 0.9819 - loss: 0.0612\n",
            "Epoch 95: val_loss did not improve from 0.61273\n",
            "\u001b[1m64/64\u001b[0m \u001b[32m━━━━━━━━━━━━━━━━━━━━\u001b[0m\u001b[37m\u001b[0m \u001b[1m60s\u001b[0m 940ms/step - accuracy: 0.9818 - loss: 0.0616 - val_accuracy: 0.8052 - val_loss: 0.8663\n",
            "Epoch 96/100\n",
            "\u001b[1m64/64\u001b[0m \u001b[32m━━━━━━━━━━━━━━━━━━━━\u001b[0m\u001b[37m\u001b[0m \u001b[1m0s\u001b[0m 722ms/step - accuracy: 0.9770 - loss: 0.0806\n",
            "Epoch 96: val_loss did not improve from 0.61273\n",
            "\u001b[1m64/64\u001b[0m \u001b[32m━━━━━━━━━━━━━━━━━━━━\u001b[0m\u001b[37m\u001b[0m \u001b[1m68s\u001b[0m 1s/step - accuracy: 0.9770 - loss: 0.0806 - val_accuracy: 0.7931 - val_loss: 1.0173\n",
            "Epoch 97/100\n",
            "\u001b[1m64/64\u001b[0m \u001b[32m━━━━━━━━━━━━━━━━━━━━\u001b[0m\u001b[37m\u001b[0m \u001b[1m0s\u001b[0m 729ms/step - accuracy: 0.9725 - loss: 0.0911\n",
            "Epoch 97: val_loss did not improve from 0.61273\n",
            "\u001b[1m64/64\u001b[0m \u001b[32m━━━━━━━━━━━━━━━━━━━━\u001b[0m\u001b[37m\u001b[0m \u001b[1m60s\u001b[0m 938ms/step - accuracy: 0.9725 - loss: 0.0913 - val_accuracy: 0.8145 - val_loss: 0.7696\n",
            "Epoch 98/100\n",
            "\u001b[1m64/64\u001b[0m \u001b[32m━━━━━━━━━━━━━━━━━━━━\u001b[0m\u001b[37m\u001b[0m \u001b[1m0s\u001b[0m 725ms/step - accuracy: 0.9689 - loss: 0.1055\n",
            "Epoch 98: val_loss did not improve from 0.61273\n",
            "\u001b[1m64/64\u001b[0m \u001b[32m━━━━━━━━━━━━━━━━━━━━\u001b[0m\u001b[37m\u001b[0m \u001b[1m58s\u001b[0m 912ms/step - accuracy: 0.9689 - loss: 0.1056 - val_accuracy: 0.8203 - val_loss: 0.9009\n",
            "Epoch 99/100\n",
            "\u001b[1m64/64\u001b[0m \u001b[32m━━━━━━━━━━━━━━━━━━━━\u001b[0m\u001b[37m\u001b[0m \u001b[1m0s\u001b[0m 708ms/step - accuracy: 0.9713 - loss: 0.0950\n",
            "Epoch 99: val_loss did not improve from 0.61273\n",
            "\u001b[1m64/64\u001b[0m \u001b[32m━━━━━━━━━━━━━━━━━━━━\u001b[0m\u001b[37m\u001b[0m \u001b[1m71s\u001b[0m 1s/step - accuracy: 0.9714 - loss: 0.0949 - val_accuracy: 0.7974 - val_loss: 0.9540\n",
            "Epoch 100/100\n",
            "\u001b[1m 6/64\u001b[0m \u001b[32m━\u001b[0m\u001b[37m━━━━━━━━━━━━━━━━━━━\u001b[0m \u001b[1m53s\u001b[0m 926ms/step - accuracy: 0.9530 - loss: 0.1895\n",
            "Epoch 100: val_loss did not improve from 0.61273\n",
            "\u001b[1m64/64\u001b[0m \u001b[32m━━━━━━━━━━━━━━━━━━━━\u001b[0m\u001b[37m\u001b[0m \u001b[1m17s\u001b[0m 265ms/step - accuracy: 0.9625 - loss: 0.1277 - val_accuracy: 0.7959 - val_loss: 0.8390\n"
          ]
        }
      ],
      "source": [
        "#train the model\n",
        "from tensorflow.keras.callbacks import EarlyStopping\n",
        "\n",
        "early_stopping = EarlyStopping(\n",
        "    monitor='val_loss',\n",
        "    patience=5,\n",
        "    restore_best_weights=True\n",
        ")\n",
        "history = model.fit(\n",
        "    train_generator,\n",
        "    validation_data=validation_generator,\n",
        "    epochs=100,\n",
        "    steps_per_epoch=64,\n",
        "    validation_steps=64,\n",
        "    class_weight=class_weights_dict,\n",
        "    callbacks=[checkpoint]\n",
        ")\n"
      ]
    },
    {
      "cell_type": "code",
      "execution_count": null,
      "metadata": {
        "colab": {
          "base_uri": "https://localhost:8080/"
        },
        "id": "N5s6EPyFePfI",
        "outputId": "4763dcae-6ba2-4721-f584-1df8a77eef8d"
      },
      "outputs": [
        {
          "output_type": "stream",
          "name": "stdout",
          "text": [
            "\u001b[1m136/136\u001b[0m \u001b[32m━━━━━━━━━━━━━━━━━━━━\u001b[0m\u001b[37m\u001b[0m \u001b[1m30s\u001b[0m 220ms/step - accuracy: 0.8024 - loss: 0.8183\n",
            "Validation Loss: 0.8589667081832886\n",
            "Validation Accuracy: 79.69%\n"
          ]
        }
      ],
      "source": [
        "# Evaluate the model (on validation data)\n",
        "val_loss, val_accuracy = model.evaluate(validation_generator)\n",
        "print(f\"Validation Loss: {val_loss}\")\n",
        "print(f\"Validation Accuracy: {val_accuracy* 100:.2f}%\")\n",
        "\n"
      ]
    },
    {
      "cell_type": "code",
      "execution_count": null,
      "metadata": {
        "colab": {
          "base_uri": "https://localhost:8080/"
        },
        "id": "TK7EBA9hBoNb",
        "outputId": "91f41e4d-d40c-4fd8-ec5a-3e5178cdc2ee"
      },
      "outputs": [
        {
          "output_type": "stream",
          "name": "stdout",
          "text": [
            "\u001b[1m339/339\u001b[0m \u001b[32m━━━━━━━━━━━━━━━━━━━━\u001b[0m\u001b[37m\u001b[0m \u001b[1m74s\u001b[0m 219ms/step - accuracy: 0.9406 - loss: 0.2830\n",
            "Test Accuracy: 94.56%\n"
          ]
        }
      ],
      "source": [
        "# Evaluate the model\n",
        "test_loss, test_accuracy = model.evaluate(test_generator)\n",
        "print(f\"Test Accuracy: {test_accuracy * 100:.2f}%\")\n"
      ]
    },
    {
      "cell_type": "code",
      "execution_count": null,
      "metadata": {
        "colab": {
          "base_uri": "https://localhost:8080/",
          "height": 927
        },
        "id": "2tR0lfIULEdp",
        "outputId": "ce57cebf-9ac3-46c0-8c54-fe8edda790b8"
      },
      "outputs": [
        {
          "output_type": "display_data",
          "data": {
            "text/plain": [
              "<Figure size 640x480 with 1 Axes>"
            ],
            "image/png": "[encoded data removed]"
          },
          "metadata": {}
        },
        {
          "output_type": "display_data",
          "data": {
            "text/plain": [
              "<Figure size 640x480 with 1 Axes>"
            ],
            "image/png": "[encoded data removed]"
          },
          "metadata": {}
        }
      ],
      "source": [
        "#visualize Training Results\n",
        "import matplotlib.pyplot as plt\n",
        "\n",
        "# Plot training and validation accuracy\n",
        "plt.plot(history.history['accuracy'], label='Training Accuracy')\n",
        "plt.plot(history.history['val_accuracy'], label='Validation Accuracy')\n",
        "plt.title('Model Accuracy')\n",
        "plt.xlabel('Epochs')\n",
        "plt.ylabel('Accuracy')\n",
        "plt.legend()\n",
        "plt.show()\n",
        "\n",
        "# Plot training and validation loss\n",
        "plt.plot(history.history['loss'], label='Training Loss')\n",
        "plt.plot(history.history['val_loss'], label='Validation Loss')\n",
        "plt.title('Model Loss')\n",
        "plt.xlabel('Epochs')\n",
        "plt.ylabel('Loss')\n",
        "plt.legend()\n",
        "plt.show()\n"
      ]
    },
    {
      "cell_type": "code",
      "execution_count": null,
      "metadata": {
        "colab": {
          "base_uri": "https://localhost:8080/"
        },
        "id": "CCOg6QDxLSqf",
        "outputId": "3afcef18-d7c6-49ed-e740-9c40bcd9ac6f"
      },
      "outputs": [
        {
          "output_type": "stream",
          "name": "stdout",
          "text": [
            "\u001b[1m339/339\u001b[0m \u001b[32m━━━━━━━━━━━━━━━━━━━━\u001b[0m\u001b[37m\u001b[0m \u001b[1m70s\u001b[0m 208ms/step\n",
            "              precision    recall  f1-score   support\n",
            "\n",
            "         ain       0.98      0.94      0.96       424\n",
            "          al       0.97      0.98      0.97       268\n",
            "       aleff       0.95      0.95      0.95       334\n",
            "          bb       0.95      0.95      0.95       362\n",
            "         dal       0.91      0.96      0.94       326\n",
            "         dha       0.96      0.91      0.93       348\n",
            "        dhad       0.95      0.98      0.96       336\n",
            "          fa       0.93      0.90      0.92       391\n",
            "        gaaf       0.88      0.92      0.90       342\n",
            "       ghain       0.98      0.94      0.96       417\n",
            "          ha       0.92      0.91      0.92       318\n",
            "         haa       0.87      0.95      0.91       305\n",
            "        jeem       0.96      0.92      0.94       314\n",
            "        kaaf       0.86      0.97      0.91       354\n",
            "        khaa       0.99      0.82      0.90       321\n",
            "          la       0.99      0.95      0.97       351\n",
            "        laam       0.95      0.98      0.97       366\n",
            "        meem       0.95      0.95      0.95       353\n",
            "         nun       0.97      0.96      0.97       363\n",
            "          ra       0.96      0.94      0.95       331\n",
            "        saad       0.95      0.98      0.96       379\n",
            "        seen       0.98      0.91      0.94       327\n",
            "       sheen       0.97      0.97      0.97       301\n",
            "          ta       0.91      0.98      0.95       363\n",
            "         taa       0.98      0.93      0.96       367\n",
            "        thaa       0.90      0.94      0.92       353\n",
            "        thal       0.95      0.94      0.95       316\n",
            "        toot       0.97      0.97      0.97       358\n",
            "         waw       0.97      0.96      0.97       274\n",
            "          ya       0.93      0.99      0.95       344\n",
            "         yaa       0.98      0.98      0.98       258\n",
            "         zay       0.91      0.93      0.92       274\n",
            "\n",
            "    accuracy                           0.95     10838\n",
            "   macro avg       0.95      0.95      0.95     10838\n",
            "weighted avg       0.95      0.95      0.95     10838\n",
            "\n"
          ]
        }
      ],
      "source": [
        "from sklearn.metrics import classification_report\n",
        "\n",
        "y_true = test_generator.classes\n",
        "y_pred = model.predict(test_generator)\n",
        "y_pred_classes = y_pred.argmax(axis=1)\n",
        "\n",
        "print(classification_report(y_true, y_pred_classes, target_names=test_generator.class_indices.keys()))\n"
      ]
    },
    {
      "cell_type": "code",
      "execution_count": null,
      "metadata": {
        "id": "yl6-DjPzeZ3s"
      },
      "outputs": [],
      "source": [
        "# Save the model\n",
        "model.save('/content/content/MODEL/ar_sign_language_model.keras')\n"
      ]
    }
  ],
  "metadata": {
    "colab": {
      "provenance": []
    },
    "kernelspec": {
      "display_name": "Python 3",
      "name": "python3"
    },
    "language_info": {
      "name": "python"
    }
  },
  "nbformat": 4,
  "nbformat_minor": 0
}